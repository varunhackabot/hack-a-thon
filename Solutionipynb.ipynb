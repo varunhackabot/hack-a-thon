{
  "nbformat": 4,
  "nbformat_minor": 0,
  "metadata": {
    "colab": {
      "name": "Solutionipynb",
      "provenance": []
    },
    "kernelspec": {
      "display_name": "Python 3",
      "name": "python3"
    }
  },
  "cells": [
    {
      "cell_type": "markdown",
      "metadata": {
        "id": "uDCP1laOFZ3a"
      },
      "source": [
        "IMPORTING PACKAGES\n"
      ]
    },
    {
      "cell_type": "code",
      "metadata": {
        "colab": {
          "base_uri": "https://localhost:8080/"
        },
        "id": "mJAZRPNUH00N",
        "outputId": "2c760b10-bf7b-4d41-cb04-93740dfd9e5e"
      },
      "source": [
        "pip install catboost"
      ],
      "execution_count": 2,
      "outputs": [
        {
          "output_type": "stream",
          "text": [
            "Collecting catboost\n",
            "\u001b[?25l  Downloading https://files.pythonhosted.org/packages/96/3b/bb419654adcf7efff42ed8a3f84e50c8f236424b7ed1cc8ccd290852e003/catboost-0.24.4-cp37-none-manylinux1_x86_64.whl (65.7MB)\n",
            "\u001b[K     |████████████████████████████████| 65.7MB 56kB/s \n",
            "\u001b[?25hRequirement already satisfied: graphviz in /usr/local/lib/python3.7/dist-packages (from catboost) (0.10.1)\n",
            "Requirement already satisfied: matplotlib in /usr/local/lib/python3.7/dist-packages (from catboost) (3.2.2)\n",
            "Requirement already satisfied: numpy>=1.16.0 in /usr/local/lib/python3.7/dist-packages (from catboost) (1.19.5)\n",
            "Requirement already satisfied: plotly in /usr/local/lib/python3.7/dist-packages (from catboost) (4.4.1)\n",
            "Requirement already satisfied: pandas>=0.24.0 in /usr/local/lib/python3.7/dist-packages (from catboost) (1.1.5)\n",
            "Requirement already satisfied: six in /usr/local/lib/python3.7/dist-packages (from catboost) (1.15.0)\n",
            "Requirement already satisfied: scipy in /usr/local/lib/python3.7/dist-packages (from catboost) (1.4.1)\n",
            "Requirement already satisfied: pyparsing!=2.0.4,!=2.1.2,!=2.1.6,>=2.0.1 in /usr/local/lib/python3.7/dist-packages (from matplotlib->catboost) (2.4.7)\n",
            "Requirement already satisfied: cycler>=0.10 in /usr/local/lib/python3.7/dist-packages (from matplotlib->catboost) (0.10.0)\n",
            "Requirement already satisfied: python-dateutil>=2.1 in /usr/local/lib/python3.7/dist-packages (from matplotlib->catboost) (2.8.1)\n",
            "Requirement already satisfied: kiwisolver>=1.0.1 in /usr/local/lib/python3.7/dist-packages (from matplotlib->catboost) (1.3.1)\n",
            "Requirement already satisfied: retrying>=1.3.3 in /usr/local/lib/python3.7/dist-packages (from plotly->catboost) (1.3.3)\n",
            "Requirement already satisfied: pytz>=2017.2 in /usr/local/lib/python3.7/dist-packages (from pandas>=0.24.0->catboost) (2018.9)\n",
            "Installing collected packages: catboost\n",
            "Successfully installed catboost-0.24.4\n"
          ],
          "name": "stdout"
        }
      ]
    },
    {
      "cell_type": "code",
      "metadata": {
        "id": "TZsnZxX35Q_r"
      },
      "source": [
        "import pandas as pd\n",
        "import numpy as np\n",
        "import matplotlib.pyplot as plt\n",
        "import seaborn as sns\n",
        "from mpl_toolkits.mplot3d import Axes3D\n",
        "from sklearn.preprocessing import StandardScaler\n",
        "import pickle\n",
        "from sklearn.model_selection import train_test_split, RandomizedSearchCV, StratifiedKFold, KFold, GridSearchCV,cross_val_score\n",
        "from sklearn.metrics import f1_score, roc_auc_score,roc_curve,accuracy_score,confusion_matrix, precision_recall_curve, auc, roc_curve, recall_score, classification_report\n",
        "import mpl_toolkits.mplot3d.axes3d as p3\n",
        "from hyperopt import STATUS_OK, Trials, fmin, hp, tpe\n",
        "from sklearn.utils import resample,shuffle\n",
        "from sklearn.decomposition import PCA,SparsePCA,KernelPCA,NMF\n",
        "from holoviews import opts\n",
        "from sklearn import metrics, mixture, cluster, datasets\n",
        "from sklearn.mixture import GaussianMixture\n",
        "from sklearn.calibration import CalibratedClassifierCV\n",
        "from sklearn.linear_model import LogisticRegression, LogisticRegressionCV\n",
        "from sklearn.ensemble import RandomForestClassifier\n",
        "from xgboost import XGBClassifier\n",
        "from imblearn.over_sampling import SMOTE\n",
        "from catboost import CatBoostClassifier\n",
        "from scipy.stats import randint\n",
        "import lightgbm as lgb\n",
        "import pandas_profiling as pp\n",
        "import xgboost as xgb"
      ],
      "execution_count": 309,
      "outputs": []
    },
    {
      "cell_type": "code",
      "metadata": {
        "colab": {
          "resources": {
            "http://localhost:8080/nbextensions/google.colab/files.js": {
              "data": "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",
              "ok": true,
              "headers": [
                [
                  "content-type",
                  "application/javascript"
                ]
              ],
              "status": 200,
              "status_text": "OK"
            }
          },
          "base_uri": "https://localhost:8080/",
          "height": 82
        },
        "id": "Mbe9hKVd51rx",
        "outputId": "ef2b1c4a-931f-41c4-d64a-aaa3f2db573f"
      },
      "source": [
        "from google.colab import files\n",
        "uploaded = files.upload()\n"
      ],
      "execution_count": 310,
      "outputs": [
        {
          "output_type": "display_data",
          "data": {
            "text/html": [
              "\n",
              "     <input type=\"file\" id=\"files-4f5814d8-c3ba-450a-934f-b4489b61a3a8\" name=\"files[]\" multiple disabled\n",
              "        style=\"border:none\" />\n",
              "     <output id=\"result-4f5814d8-c3ba-450a-934f-b4489b61a3a8\">\n",
              "      Upload widget is only available when the cell has been executed in the\n",
              "      current browser session. Please rerun this cell to enable.\n",
              "      </output>\n",
              "      <script src=\"/nbextensions/google.colab/files.js\"></script> "
            ],
            "text/plain": [
              "<IPython.core.display.HTML object>"
            ]
          },
          "metadata": {
            "tags": []
          }
        },
        {
          "output_type": "stream",
          "text": [
            "Saving train_Df64byy.csv to train_Df64byy (1).csv\n"
          ],
          "name": "stdout"
        }
      ]
    },
    {
      "cell_type": "code",
      "metadata": {
        "colab": {
          "resources": {
            "http://localhost:8080/nbextensions/google.colab/files.js": {
              "data": "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",
              "ok": true,
              "headers": [
                [
                  "content-type",
                  "application/javascript"
                ]
              ],
              "status": 200,
              "status_text": "OK"
            }
          },
          "base_uri": "https://localhost:8080/",
          "height": 82
        },
        "id": "qcVys80L8RmZ",
        "outputId": "1aa3d367-a50b-4cf8-8d16-496025245707"
      },
      "source": [
        "from google.colab import files\n",
        "uploaded = files.upload()\n"
      ],
      "execution_count": 311,
      "outputs": [
        {
          "output_type": "display_data",
          "data": {
            "text/html": [
              "\n",
              "     <input type=\"file\" id=\"files-a58f5cdf-c2d6-4316-ba44-b3c4833516f9\" name=\"files[]\" multiple disabled\n",
              "        style=\"border:none\" />\n",
              "     <output id=\"result-a58f5cdf-c2d6-4316-ba44-b3c4833516f9\">\n",
              "      Upload widget is only available when the cell has been executed in the\n",
              "      current browser session. Please rerun this cell to enable.\n",
              "      </output>\n",
              "      <script src=\"/nbextensions/google.colab/files.js\"></script> "
            ],
            "text/plain": [
              "<IPython.core.display.HTML object>"
            ]
          },
          "metadata": {
            "tags": []
          }
        },
        {
          "output_type": "stream",
          "text": [
            "Saving test_YCcRUnU.csv to test_YCcRUnU (1).csv\n"
          ],
          "name": "stdout"
        }
      ]
    },
    {
      "cell_type": "code",
      "metadata": {
        "id": "-cWJRH0M6TfX"
      },
      "source": [
        "train_df = pd.read_csv('train_Df64byy (1).csv')\n",
        "test_df = pd.read_csv('test_YCcRUnU (1).csv')\n",
        "#combine = pd.concat([train,test])"
      ],
      "execution_count": 312,
      "outputs": []
    },
    {
      "cell_type": "markdown",
      "metadata": {
        "id": "sWb0KhmLSJbj"
      },
      "source": [
        "DATA ANALYSIS"
      ]
    },
    {
      "cell_type": "code",
      "metadata": {
        "colab": {
          "base_uri": "https://localhost:8080/",
          "height": 244
        },
        "id": "7X2iKqHN6m3R",
        "outputId": "f1c77c3e-717c-4a85-e358-78ee80ebc6f9"
      },
      "source": [
        "train_df.head()"
      ],
      "execution_count": 313,
      "outputs": [
        {
          "output_type": "execute_result",
          "data": {
            "text/html": [
              "<div>\n",
              "<style scoped>\n",
              "    .dataframe tbody tr th:only-of-type {\n",
              "        vertical-align: middle;\n",
              "    }\n",
              "\n",
              "    .dataframe tbody tr th {\n",
              "        vertical-align: top;\n",
              "    }\n",
              "\n",
              "    .dataframe thead th {\n",
              "        text-align: right;\n",
              "    }\n",
              "</style>\n",
              "<table border=\"1\" class=\"dataframe\">\n",
              "  <thead>\n",
              "    <tr style=\"text-align: right;\">\n",
              "      <th></th>\n",
              "      <th>ID</th>\n",
              "      <th>City_Code</th>\n",
              "      <th>Region_Code</th>\n",
              "      <th>Accomodation_Type</th>\n",
              "      <th>Reco_Insurance_Type</th>\n",
              "      <th>Upper_Age</th>\n",
              "      <th>Lower_Age</th>\n",
              "      <th>Is_Spouse</th>\n",
              "      <th>Health Indicator</th>\n",
              "      <th>Holding_Policy_Duration</th>\n",
              "      <th>Holding_Policy_Type</th>\n",
              "      <th>Reco_Policy_Cat</th>\n",
              "      <th>Reco_Policy_Premium</th>\n",
              "      <th>Response</th>\n",
              "    </tr>\n",
              "  </thead>\n",
              "  <tbody>\n",
              "    <tr>\n",
              "      <th>0</th>\n",
              "      <td>1</td>\n",
              "      <td>C3</td>\n",
              "      <td>3213</td>\n",
              "      <td>Rented</td>\n",
              "      <td>Individual</td>\n",
              "      <td>36</td>\n",
              "      <td>36</td>\n",
              "      <td>No</td>\n",
              "      <td>X1</td>\n",
              "      <td>14+</td>\n",
              "      <td>3.0</td>\n",
              "      <td>22</td>\n",
              "      <td>11628.0</td>\n",
              "      <td>0</td>\n",
              "    </tr>\n",
              "    <tr>\n",
              "      <th>1</th>\n",
              "      <td>2</td>\n",
              "      <td>C5</td>\n",
              "      <td>1117</td>\n",
              "      <td>Owned</td>\n",
              "      <td>Joint</td>\n",
              "      <td>75</td>\n",
              "      <td>22</td>\n",
              "      <td>No</td>\n",
              "      <td>X2</td>\n",
              "      <td>NaN</td>\n",
              "      <td>NaN</td>\n",
              "      <td>22</td>\n",
              "      <td>30510.0</td>\n",
              "      <td>0</td>\n",
              "    </tr>\n",
              "    <tr>\n",
              "      <th>2</th>\n",
              "      <td>3</td>\n",
              "      <td>C5</td>\n",
              "      <td>3732</td>\n",
              "      <td>Owned</td>\n",
              "      <td>Individual</td>\n",
              "      <td>32</td>\n",
              "      <td>32</td>\n",
              "      <td>No</td>\n",
              "      <td>NaN</td>\n",
              "      <td>1.0</td>\n",
              "      <td>1.0</td>\n",
              "      <td>19</td>\n",
              "      <td>7450.0</td>\n",
              "      <td>1</td>\n",
              "    </tr>\n",
              "    <tr>\n",
              "      <th>3</th>\n",
              "      <td>4</td>\n",
              "      <td>C24</td>\n",
              "      <td>4378</td>\n",
              "      <td>Owned</td>\n",
              "      <td>Joint</td>\n",
              "      <td>52</td>\n",
              "      <td>48</td>\n",
              "      <td>No</td>\n",
              "      <td>X1</td>\n",
              "      <td>14+</td>\n",
              "      <td>3.0</td>\n",
              "      <td>19</td>\n",
              "      <td>17780.0</td>\n",
              "      <td>0</td>\n",
              "    </tr>\n",
              "    <tr>\n",
              "      <th>4</th>\n",
              "      <td>5</td>\n",
              "      <td>C8</td>\n",
              "      <td>2190</td>\n",
              "      <td>Rented</td>\n",
              "      <td>Individual</td>\n",
              "      <td>44</td>\n",
              "      <td>44</td>\n",
              "      <td>No</td>\n",
              "      <td>X2</td>\n",
              "      <td>3.0</td>\n",
              "      <td>1.0</td>\n",
              "      <td>16</td>\n",
              "      <td>10404.0</td>\n",
              "      <td>0</td>\n",
              "    </tr>\n",
              "  </tbody>\n",
              "</table>\n",
              "</div>"
            ],
            "text/plain": [
              "   ID City_Code  Region_Code  ... Reco_Policy_Cat Reco_Policy_Premium  Response\n",
              "0   1        C3         3213  ...              22             11628.0         0\n",
              "1   2        C5         1117  ...              22             30510.0         0\n",
              "2   3        C5         3732  ...              19              7450.0         1\n",
              "3   4       C24         4378  ...              19             17780.0         0\n",
              "4   5        C8         2190  ...              16             10404.0         0\n",
              "\n",
              "[5 rows x 14 columns]"
            ]
          },
          "metadata": {
            "tags": []
          },
          "execution_count": 313
        }
      ]
    },
    {
      "cell_type": "code",
      "metadata": {
        "colab": {
          "base_uri": "https://localhost:8080/",
          "height": 244
        },
        "id": "7zOgaMvQ7oQp",
        "outputId": "b7885f35-3c0e-4bbd-c478-c404fc3a7c03"
      },
      "source": [
        "train_df.tail()"
      ],
      "execution_count": 314,
      "outputs": [
        {
          "output_type": "execute_result",
          "data": {
            "text/html": [
              "<div>\n",
              "<style scoped>\n",
              "    .dataframe tbody tr th:only-of-type {\n",
              "        vertical-align: middle;\n",
              "    }\n",
              "\n",
              "    .dataframe tbody tr th {\n",
              "        vertical-align: top;\n",
              "    }\n",
              "\n",
              "    .dataframe thead th {\n",
              "        text-align: right;\n",
              "    }\n",
              "</style>\n",
              "<table border=\"1\" class=\"dataframe\">\n",
              "  <thead>\n",
              "    <tr style=\"text-align: right;\">\n",
              "      <th></th>\n",
              "      <th>ID</th>\n",
              "      <th>City_Code</th>\n",
              "      <th>Region_Code</th>\n",
              "      <th>Accomodation_Type</th>\n",
              "      <th>Reco_Insurance_Type</th>\n",
              "      <th>Upper_Age</th>\n",
              "      <th>Lower_Age</th>\n",
              "      <th>Is_Spouse</th>\n",
              "      <th>Health Indicator</th>\n",
              "      <th>Holding_Policy_Duration</th>\n",
              "      <th>Holding_Policy_Type</th>\n",
              "      <th>Reco_Policy_Cat</th>\n",
              "      <th>Reco_Policy_Premium</th>\n",
              "      <th>Response</th>\n",
              "    </tr>\n",
              "  </thead>\n",
              "  <tbody>\n",
              "    <tr>\n",
              "      <th>50877</th>\n",
              "      <td>50878</td>\n",
              "      <td>C4</td>\n",
              "      <td>845</td>\n",
              "      <td>Rented</td>\n",
              "      <td>Individual</td>\n",
              "      <td>22</td>\n",
              "      <td>22</td>\n",
              "      <td>No</td>\n",
              "      <td>X3</td>\n",
              "      <td>NaN</td>\n",
              "      <td>NaN</td>\n",
              "      <td>18</td>\n",
              "      <td>7704.0</td>\n",
              "      <td>0</td>\n",
              "    </tr>\n",
              "    <tr>\n",
              "      <th>50878</th>\n",
              "      <td>50879</td>\n",
              "      <td>C5</td>\n",
              "      <td>4188</td>\n",
              "      <td>Rented</td>\n",
              "      <td>Individual</td>\n",
              "      <td>27</td>\n",
              "      <td>27</td>\n",
              "      <td>No</td>\n",
              "      <td>X3</td>\n",
              "      <td>7.0</td>\n",
              "      <td>3.0</td>\n",
              "      <td>4</td>\n",
              "      <td>5408.0</td>\n",
              "      <td>0</td>\n",
              "    </tr>\n",
              "    <tr>\n",
              "      <th>50879</th>\n",
              "      <td>50880</td>\n",
              "      <td>C1</td>\n",
              "      <td>442</td>\n",
              "      <td>Rented</td>\n",
              "      <td>Individual</td>\n",
              "      <td>63</td>\n",
              "      <td>63</td>\n",
              "      <td>No</td>\n",
              "      <td>X2</td>\n",
              "      <td>14+</td>\n",
              "      <td>1.0</td>\n",
              "      <td>12</td>\n",
              "      <td>11374.0</td>\n",
              "      <td>0</td>\n",
              "    </tr>\n",
              "    <tr>\n",
              "      <th>50880</th>\n",
              "      <td>50881</td>\n",
              "      <td>C1</td>\n",
              "      <td>4</td>\n",
              "      <td>Owned</td>\n",
              "      <td>Joint</td>\n",
              "      <td>71</td>\n",
              "      <td>49</td>\n",
              "      <td>No</td>\n",
              "      <td>X2</td>\n",
              "      <td>2.0</td>\n",
              "      <td>2.0</td>\n",
              "      <td>16</td>\n",
              "      <td>28179.2</td>\n",
              "      <td>1</td>\n",
              "    </tr>\n",
              "    <tr>\n",
              "      <th>50881</th>\n",
              "      <td>50882</td>\n",
              "      <td>C3</td>\n",
              "      <td>3866</td>\n",
              "      <td>Rented</td>\n",
              "      <td>Individual</td>\n",
              "      <td>24</td>\n",
              "      <td>24</td>\n",
              "      <td>No</td>\n",
              "      <td>X3</td>\n",
              "      <td>2.0</td>\n",
              "      <td>3.0</td>\n",
              "      <td>18</td>\n",
              "      <td>11424.0</td>\n",
              "      <td>0</td>\n",
              "    </tr>\n",
              "  </tbody>\n",
              "</table>\n",
              "</div>"
            ],
            "text/plain": [
              "          ID City_Code  ...  Reco_Policy_Premium Response\n",
              "50877  50878        C4  ...               7704.0        0\n",
              "50878  50879        C5  ...               5408.0        0\n",
              "50879  50880        C1  ...              11374.0        0\n",
              "50880  50881        C1  ...              28179.2        1\n",
              "50881  50882        C3  ...              11424.0        0\n",
              "\n",
              "[5 rows x 14 columns]"
            ]
          },
          "metadata": {
            "tags": []
          },
          "execution_count": 314
        }
      ]
    },
    {
      "cell_type": "code",
      "metadata": {
        "colab": {
          "base_uri": "https://localhost:8080/",
          "height": 301
        },
        "id": "laLLlPGB8ebM",
        "outputId": "af263d0b-950b-4c0a-9b38-034ad5443793"
      },
      "source": [
        "train_df.describe()"
      ],
      "execution_count": 315,
      "outputs": [
        {
          "output_type": "execute_result",
          "data": {
            "text/html": [
              "<div>\n",
              "<style scoped>\n",
              "    .dataframe tbody tr th:only-of-type {\n",
              "        vertical-align: middle;\n",
              "    }\n",
              "\n",
              "    .dataframe tbody tr th {\n",
              "        vertical-align: top;\n",
              "    }\n",
              "\n",
              "    .dataframe thead th {\n",
              "        text-align: right;\n",
              "    }\n",
              "</style>\n",
              "<table border=\"1\" class=\"dataframe\">\n",
              "  <thead>\n",
              "    <tr style=\"text-align: right;\">\n",
              "      <th></th>\n",
              "      <th>ID</th>\n",
              "      <th>Region_Code</th>\n",
              "      <th>Upper_Age</th>\n",
              "      <th>Lower_Age</th>\n",
              "      <th>Holding_Policy_Type</th>\n",
              "      <th>Reco_Policy_Cat</th>\n",
              "      <th>Reco_Policy_Premium</th>\n",
              "      <th>Response</th>\n",
              "    </tr>\n",
              "  </thead>\n",
              "  <tbody>\n",
              "    <tr>\n",
              "      <th>count</th>\n",
              "      <td>50882.000000</td>\n",
              "      <td>50882.000000</td>\n",
              "      <td>50882.000000</td>\n",
              "      <td>50882.000000</td>\n",
              "      <td>30631.000000</td>\n",
              "      <td>50882.000000</td>\n",
              "      <td>50882.000000</td>\n",
              "      <td>50882.000000</td>\n",
              "    </tr>\n",
              "    <tr>\n",
              "      <th>mean</th>\n",
              "      <td>25441.500000</td>\n",
              "      <td>1732.788707</td>\n",
              "      <td>44.856275</td>\n",
              "      <td>42.738866</td>\n",
              "      <td>2.439228</td>\n",
              "      <td>15.115188</td>\n",
              "      <td>14183.950069</td>\n",
              "      <td>0.239947</td>\n",
              "    </tr>\n",
              "    <tr>\n",
              "      <th>std</th>\n",
              "      <td>14688.512535</td>\n",
              "      <td>1424.081652</td>\n",
              "      <td>17.310271</td>\n",
              "      <td>17.319375</td>\n",
              "      <td>1.025923</td>\n",
              "      <td>6.340663</td>\n",
              "      <td>6590.074873</td>\n",
              "      <td>0.427055</td>\n",
              "    </tr>\n",
              "    <tr>\n",
              "      <th>min</th>\n",
              "      <td>1.000000</td>\n",
              "      <td>1.000000</td>\n",
              "      <td>18.000000</td>\n",
              "      <td>16.000000</td>\n",
              "      <td>1.000000</td>\n",
              "      <td>1.000000</td>\n",
              "      <td>2280.000000</td>\n",
              "      <td>0.000000</td>\n",
              "    </tr>\n",
              "    <tr>\n",
              "      <th>25%</th>\n",
              "      <td>12721.250000</td>\n",
              "      <td>523.000000</td>\n",
              "      <td>28.000000</td>\n",
              "      <td>27.000000</td>\n",
              "      <td>1.000000</td>\n",
              "      <td>12.000000</td>\n",
              "      <td>9248.000000</td>\n",
              "      <td>0.000000</td>\n",
              "    </tr>\n",
              "    <tr>\n",
              "      <th>50%</th>\n",
              "      <td>25441.500000</td>\n",
              "      <td>1391.000000</td>\n",
              "      <td>44.000000</td>\n",
              "      <td>40.000000</td>\n",
              "      <td>3.000000</td>\n",
              "      <td>17.000000</td>\n",
              "      <td>13178.000000</td>\n",
              "      <td>0.000000</td>\n",
              "    </tr>\n",
              "    <tr>\n",
              "      <th>75%</th>\n",
              "      <td>38161.750000</td>\n",
              "      <td>2667.000000</td>\n",
              "      <td>59.000000</td>\n",
              "      <td>57.000000</td>\n",
              "      <td>3.000000</td>\n",
              "      <td>20.000000</td>\n",
              "      <td>18096.000000</td>\n",
              "      <td>0.000000</td>\n",
              "    </tr>\n",
              "    <tr>\n",
              "      <th>max</th>\n",
              "      <td>50882.000000</td>\n",
              "      <td>6194.000000</td>\n",
              "      <td>75.000000</td>\n",
              "      <td>75.000000</td>\n",
              "      <td>4.000000</td>\n",
              "      <td>22.000000</td>\n",
              "      <td>43350.400000</td>\n",
              "      <td>1.000000</td>\n",
              "    </tr>\n",
              "  </tbody>\n",
              "</table>\n",
              "</div>"
            ],
            "text/plain": [
              "                 ID   Region_Code  ...  Reco_Policy_Premium      Response\n",
              "count  50882.000000  50882.000000  ...         50882.000000  50882.000000\n",
              "mean   25441.500000   1732.788707  ...         14183.950069      0.239947\n",
              "std    14688.512535   1424.081652  ...          6590.074873      0.427055\n",
              "min        1.000000      1.000000  ...          2280.000000      0.000000\n",
              "25%    12721.250000    523.000000  ...          9248.000000      0.000000\n",
              "50%    25441.500000   1391.000000  ...         13178.000000      0.000000\n",
              "75%    38161.750000   2667.000000  ...         18096.000000      0.000000\n",
              "max    50882.000000   6194.000000  ...         43350.400000      1.000000\n",
              "\n",
              "[8 rows x 8 columns]"
            ]
          },
          "metadata": {
            "tags": []
          },
          "execution_count": 315
        }
      ]
    },
    {
      "cell_type": "code",
      "metadata": {
        "colab": {
          "base_uri": "https://localhost:8080/"
        },
        "id": "0cw0XTle8iMu",
        "outputId": "e734eaaf-1074-4fea-8714-f6fe1d5acc89"
      },
      "source": [
        " missed = train_df.isnull().sum()\n",
        " print(missed)"
      ],
      "execution_count": 316,
      "outputs": [
        {
          "output_type": "stream",
          "text": [
            "ID                             0\n",
            "City_Code                      0\n",
            "Region_Code                    0\n",
            "Accomodation_Type              0\n",
            "Reco_Insurance_Type            0\n",
            "Upper_Age                      0\n",
            "Lower_Age                      0\n",
            "Is_Spouse                      0\n",
            "Health Indicator           11691\n",
            "Holding_Policy_Duration    20251\n",
            "Holding_Policy_Type        20251\n",
            "Reco_Policy_Cat                0\n",
            "Reco_Policy_Premium            0\n",
            "Response                       0\n",
            "dtype: int64\n"
          ],
          "name": "stdout"
        }
      ]
    },
    {
      "cell_type": "code",
      "metadata": {
        "colab": {
          "base_uri": "https://localhost:8080/"
        },
        "id": "iMtv0pBjjqib",
        "outputId": "2ac5d954-fcc6-4e1e-ff44-a5569c98323a"
      },
      "source": [
        "train_df.shape"
      ],
      "execution_count": 317,
      "outputs": [
        {
          "output_type": "execute_result",
          "data": {
            "text/plain": [
              "(50882, 14)"
            ]
          },
          "metadata": {
            "tags": []
          },
          "execution_count": 317
        }
      ]
    },
    {
      "cell_type": "code",
      "metadata": {
        "id": "sDHjpQ5Qi0z0"
      },
      "source": [
        "train_df.sort_values(\"ID\",inplace=True,ascending=True)"
      ],
      "execution_count": 318,
      "outputs": []
    },
    {
      "cell_type": "code",
      "metadata": {
        "id": "IPOuZ3PzO7PG"
      },
      "source": [
        "test_df.sort_values(\"ID\",inplace=True,ascending=True)"
      ],
      "execution_count": 319,
      "outputs": []
    },
    {
      "cell_type": "code",
      "metadata": {
        "colab": {
          "base_uri": "https://localhost:8080/"
        },
        "id": "PpOR7I-nlx7f",
        "outputId": "065133ff-4579-4677-c289-41d22df63c51"
      },
      "source": [
        "total = np.product(train_df.shape)\n",
        "missing = missed.sum()\n",
        "(missing/total)*100"
      ],
      "execution_count": 320,
      "outputs": [
        {
          "output_type": "execute_result",
          "data": {
            "text/plain": [
              "7.326896404566307"
            ]
          },
          "metadata": {
            "tags": []
          },
          "execution_count": 320
        }
      ]
    },
    {
      "cell_type": "code",
      "metadata": {
        "id": "uDwtdQC0Lgud"
      },
      "source": [
        "#TREATING MISSING DATA\n",
        "rev_null=[\"Health Indicator\",\"Holding_Policy_Type\",\"Holding_Policy_Duration\"]\n"
      ],
      "execution_count": 321,
      "outputs": []
    },
    {
      "cell_type": "code",
      "metadata": {
        "id": "RHvhMrvKUMnS"
      },
      "source": [
        "for column in rev_null:\n",
        "    train_df[column].fillna(train_df[column].mode()[0], inplace=True)\n",
        "    train_df[column].fillna(train_df[column].mode()[0], inplace=True)"
      ],
      "execution_count": 322,
      "outputs": []
    },
    {
      "cell_type": "code",
      "metadata": {
        "id": "4jBUf7dmGJ8w"
      },
      "source": [
        "for column in rev_null:\n",
        "    test_df[column].fillna(test_df[column].mode()[0], inplace=True)\n",
        "    test_df[column].fillna(test_df[column].mode()[0], inplace=True)"
      ],
      "execution_count": 323,
      "outputs": []
    },
    {
      "cell_type": "code",
      "metadata": {
        "id": "Wri9qoMnxP7W"
      },
      "source": [
        "train_df['Health Indicator'] = pd.factorize(train_df[\"Health Indicator\"])[0]\n",
        "test_df['Health Indicator'] = pd.factorize(test_df[\"Health Indicator\"])[0]"
      ],
      "execution_count": 324,
      "outputs": []
    },
    {
      "cell_type": "code",
      "metadata": {
        "id": "cWQq8l0rmLAA"
      },
      "source": [
        "#fq = train_df.groupby(['Holding_Policy_Duration']).size()/len(train_df)    \n",
        "# mapping values to dataframe \n",
        "#train_df.loc[:, \"{}_freq_encode\".format('Holding_Policy_Duration')] = train_df['Holding_Policy_Duration'].map(fq)   \n",
        "# drop original column. \n",
        "#train_df = train_df.drop(['Holding_Policy_Duration'], axis = 1)"
      ],
      "execution_count": 325,
      "outputs": []
    },
    {
      "cell_type": "code",
      "metadata": {
        "id": "DCinSFqxscpi"
      },
      "source": [
        "#fq = test_df.groupby(['Holding_Policy_Duration']).size()/len(test_df)    \n",
        "# mapping values to dataframe \n",
        "#test_df.loc[:, \"{}_freq_encode\".format('Holding_Policy_Duration')] = test_df['Holding_Policy_Duration'].map(fq)   \n",
        "# drop original column. \n",
        "#test_df = test_df.drop(['Holding_Policy_Duration'], axis = 1)"
      ],
      "execution_count": 326,
      "outputs": []
    },
    {
      "cell_type": "code",
      "metadata": {
        "id": "h5pGBgrqp8WU"
      },
      "source": [
        "#fq = train_df.groupby(['Holding_Policy_Type']).size()/len(train_df)    \n",
        "# mapping values to dataframe \n",
        "#train_df.loc[:, \"{}_freq_encode\".format('Holding_Policy_Type')] = train_df['Holding_Policy_Type'].map(fq)   \n",
        "# drop original column. \n",
        "#train_df = train_df.drop(['Holding_Policy_Type'], axis = 1)"
      ],
      "execution_count": 327,
      "outputs": []
    },
    {
      "cell_type": "code",
      "metadata": {
        "id": "uJss9icasp-k"
      },
      "source": [
        "#fq = test_df.groupby(['Holding_Policy_Type']).size()/len(test_df)    \n",
        "# mapping values to dataframe \n",
        "#test_df.loc[:, \"{}_freq_encode\".format('Holding_Policy_Type')] = test_df['Holding_Policy_Type'].map(fq)   \n",
        "# drop original column. \n",
        "#test_df = test_df.drop(['Holding_Policy_Type'], axis = 1)"
      ],
      "execution_count": 328,
      "outputs": []
    },
    {
      "cell_type": "code",
      "metadata": {
        "id": "aOL1HP9lqLZc"
      },
      "source": [
        "#fq = train_df.groupby(['Reco_Policy_Cat']).size()/len(train_df)    \n",
        "# mapping values to dataframe \n",
        "#train_df.loc[:, \"{}_freq_encode\".format('Reco_Policy_Cat')] = train_df['Reco_Policy_Cat'].map(fq)   \n",
        "# drop original column. \n",
        "#train_df = train_df.drop(['Reco_Policy_Cat'], axis = 1)"
      ],
      "execution_count": 329,
      "outputs": []
    },
    {
      "cell_type": "code",
      "metadata": {
        "id": "-9cgbBXbs3qb"
      },
      "source": [
        "#fq = test_df.groupby(['Reco_Policy_Cat']).size()/len(test_df)    \n",
        "# mapping values to dataframe \n",
        "#test_df.loc[:, \"{}_freq_encode\".format('Reco_Policy_Cat')] = test_df['Reco_Policy_Cat'].map(fq)   \n",
        "# drop original column. \n",
        "#test_df = test_df.drop(['Reco_Policy_Cat'], axis = 1)"
      ],
      "execution_count": 330,
      "outputs": []
    },
    {
      "cell_type": "code",
      "metadata": {
        "id": "HZl0GoPYqdT8"
      },
      "source": [
        "#fq = train_df.groupby(['Health Indicator']).size()/len(train_df)    \n",
        "# mapping values to dataframe \n",
        "#train_df.loc[:, \"{}_freq_encode\".format('Health Indicator')] = train_df['Health Indicator'].map(fq)   \n",
        "# drop original column. \n",
        "#train_df = train_df.drop(['Health Indicator'], axis = 1)"
      ],
      "execution_count": 331,
      "outputs": []
    },
    {
      "cell_type": "code",
      "metadata": {
        "id": "Xwtq_kp8tDKN"
      },
      "source": [
        "#fq = test_df.groupby(['Health Indicator']).size()/len(test_df)    \n",
        "# mapping values to dataframe \n",
        "#test_df.loc[:, \"{}_freq_encode\".format('Health Indicator')] = test_df['Health Indicator'].map(fq)   \n",
        "# drop original column. \n",
        "#test_df = test_df.drop(['Health Indicator'], axis = 1)"
      ],
      "execution_count": 332,
      "outputs": []
    },
    {
      "cell_type": "code",
      "metadata": {
        "id": "qcQP8SxqteaR"
      },
      "source": [
        "#fq = test_df.groupby(['City_Code']).size()/len(test_df)    \n",
        "# mapping values to dataframe \n",
        "#test_df.loc[:, \"{}_freq_encode\".format('City_Code')] = test_df['City_Code'].map(fq)   \n",
        "# drop original column. \n",
        "#test_df = test_df.drop(['City_Code'], axis = 1)"
      ],
      "execution_count": 333,
      "outputs": []
    },
    {
      "cell_type": "code",
      "metadata": {
        "id": "YH_rZ9bqtru7"
      },
      "source": [
        "#fq = train_df.groupby(['City_Code']).size()/len(train_df)    \n",
        "# mapping values to dataframe \n",
        "#train_df.loc[:, \"{}_freq_encode\".format('City_Code')] = train_df['City_Code'].map(fq)   \n",
        "# drop original column. \n",
        "#train_df = train_df.drop(['City_Code'], axis = 1)"
      ],
      "execution_count": 334,
      "outputs": []
    },
    {
      "cell_type": "code",
      "metadata": {
        "id": "fVpNc5N6eL5L"
      },
      "source": [
        "#train_df = train_df.dropna(subset=[\"Holding_Policy_Type\",\"Holding_Policy_Duration\"])"
      ],
      "execution_count": 335,
      "outputs": []
    },
    {
      "cell_type": "code",
      "metadata": {
        "colab": {
          "base_uri": "https://localhost:8080/"
        },
        "id": "1v_3NBC6rqcK",
        "outputId": "5ba44129-2933-44aa-d183-5fe8f32ea156"
      },
      "source": [
        "train_df.shape"
      ],
      "execution_count": 336,
      "outputs": [
        {
          "output_type": "execute_result",
          "data": {
            "text/plain": [
              "(50882, 14)"
            ]
          },
          "metadata": {
            "tags": []
          },
          "execution_count": 336
        }
      ]
    },
    {
      "cell_type": "code",
      "metadata": {
        "colab": {
          "base_uri": "https://localhost:8080/"
        },
        "id": "1CR7A3W-MKrq",
        "outputId": "348fcc74-0727-4b8b-d6ab-0ed4344811a5"
      },
      "source": [
        "test_df.shape"
      ],
      "execution_count": 337,
      "outputs": [
        {
          "output_type": "execute_result",
          "data": {
            "text/plain": [
              "(21805, 13)"
            ]
          },
          "metadata": {
            "tags": []
          },
          "execution_count": 337
        }
      ]
    },
    {
      "cell_type": "code",
      "metadata": {
        "colab": {
          "base_uri": "https://localhost:8080/"
        },
        "id": "AUSUb2py1qCp",
        "outputId": "e458a79f-9ef2-46ca-d710-b50c8f8f50bb"
      },
      "source": [
        "train_df.dtypes"
      ],
      "execution_count": 338,
      "outputs": [
        {
          "output_type": "execute_result",
          "data": {
            "text/plain": [
              "ID                           int64\n",
              "City_Code                   object\n",
              "Region_Code                  int64\n",
              "Accomodation_Type           object\n",
              "Reco_Insurance_Type         object\n",
              "Upper_Age                    int64\n",
              "Lower_Age                    int64\n",
              "Is_Spouse                   object\n",
              "Health Indicator             int64\n",
              "Holding_Policy_Duration     object\n",
              "Holding_Policy_Type        float64\n",
              "Reco_Policy_Cat              int64\n",
              "Reco_Policy_Premium        float64\n",
              "Response                     int64\n",
              "dtype: object"
            ]
          },
          "metadata": {
            "tags": []
          },
          "execution_count": 338
        }
      ]
    },
    {
      "cell_type": "code",
      "metadata": {
        "id": "EEOpxRfIW_DQ"
      },
      "source": [
        "Age = train_df['Upper_Age']+train_df['Lower_Age']\n"
      ],
      "execution_count": 339,
      "outputs": []
    },
    {
      "cell_type": "code",
      "metadata": {
        "id": "2CAwjgGnPJF4"
      },
      "source": [
        "Age_1 = test_df['Upper_Age']+test_df['Lower_Age']"
      ],
      "execution_count": 340,
      "outputs": []
    },
    {
      "cell_type": "code",
      "metadata": {
        "id": "MX5bxjS3kqEc"
      },
      "source": [
        "train_df.loc[:,'Age'] = (Age/2).astype(int)\n"
      ],
      "execution_count": 341,
      "outputs": []
    },
    {
      "cell_type": "code",
      "metadata": {
        "id": "m-3oR_mrPNqv"
      },
      "source": [
        "test_df.loc[:,'Age'] = (Age_1/2).astype(int)"
      ],
      "execution_count": 342,
      "outputs": []
    },
    {
      "cell_type": "code",
      "metadata": {
        "colab": {
          "base_uri": "https://localhost:8080/",
          "height": 244
        },
        "id": "E87PYpq3lCM7",
        "outputId": "0c40ba4d-f986-484b-9e9d-690ed4544571"
      },
      "source": [
        "train_df.head()"
      ],
      "execution_count": 343,
      "outputs": [
        {
          "output_type": "execute_result",
          "data": {
            "text/html": [
              "<div>\n",
              "<style scoped>\n",
              "    .dataframe tbody tr th:only-of-type {\n",
              "        vertical-align: middle;\n",
              "    }\n",
              "\n",
              "    .dataframe tbody tr th {\n",
              "        vertical-align: top;\n",
              "    }\n",
              "\n",
              "    .dataframe thead th {\n",
              "        text-align: right;\n",
              "    }\n",
              "</style>\n",
              "<table border=\"1\" class=\"dataframe\">\n",
              "  <thead>\n",
              "    <tr style=\"text-align: right;\">\n",
              "      <th></th>\n",
              "      <th>ID</th>\n",
              "      <th>City_Code</th>\n",
              "      <th>Region_Code</th>\n",
              "      <th>Accomodation_Type</th>\n",
              "      <th>Reco_Insurance_Type</th>\n",
              "      <th>Upper_Age</th>\n",
              "      <th>Lower_Age</th>\n",
              "      <th>Is_Spouse</th>\n",
              "      <th>Health Indicator</th>\n",
              "      <th>Holding_Policy_Duration</th>\n",
              "      <th>Holding_Policy_Type</th>\n",
              "      <th>Reco_Policy_Cat</th>\n",
              "      <th>Reco_Policy_Premium</th>\n",
              "      <th>Response</th>\n",
              "      <th>Age</th>\n",
              "    </tr>\n",
              "  </thead>\n",
              "  <tbody>\n",
              "    <tr>\n",
              "      <th>0</th>\n",
              "      <td>1</td>\n",
              "      <td>C3</td>\n",
              "      <td>3213</td>\n",
              "      <td>Rented</td>\n",
              "      <td>Individual</td>\n",
              "      <td>36</td>\n",
              "      <td>36</td>\n",
              "      <td>No</td>\n",
              "      <td>0</td>\n",
              "      <td>14+</td>\n",
              "      <td>3.0</td>\n",
              "      <td>22</td>\n",
              "      <td>11628.0</td>\n",
              "      <td>0</td>\n",
              "      <td>36</td>\n",
              "    </tr>\n",
              "    <tr>\n",
              "      <th>1</th>\n",
              "      <td>2</td>\n",
              "      <td>C5</td>\n",
              "      <td>1117</td>\n",
              "      <td>Owned</td>\n",
              "      <td>Joint</td>\n",
              "      <td>75</td>\n",
              "      <td>22</td>\n",
              "      <td>No</td>\n",
              "      <td>1</td>\n",
              "      <td>1.0</td>\n",
              "      <td>3.0</td>\n",
              "      <td>22</td>\n",
              "      <td>30510.0</td>\n",
              "      <td>0</td>\n",
              "      <td>48</td>\n",
              "    </tr>\n",
              "    <tr>\n",
              "      <th>2</th>\n",
              "      <td>3</td>\n",
              "      <td>C5</td>\n",
              "      <td>3732</td>\n",
              "      <td>Owned</td>\n",
              "      <td>Individual</td>\n",
              "      <td>32</td>\n",
              "      <td>32</td>\n",
              "      <td>No</td>\n",
              "      <td>0</td>\n",
              "      <td>1.0</td>\n",
              "      <td>1.0</td>\n",
              "      <td>19</td>\n",
              "      <td>7450.0</td>\n",
              "      <td>1</td>\n",
              "      <td>32</td>\n",
              "    </tr>\n",
              "    <tr>\n",
              "      <th>3</th>\n",
              "      <td>4</td>\n",
              "      <td>C24</td>\n",
              "      <td>4378</td>\n",
              "      <td>Owned</td>\n",
              "      <td>Joint</td>\n",
              "      <td>52</td>\n",
              "      <td>48</td>\n",
              "      <td>No</td>\n",
              "      <td>0</td>\n",
              "      <td>14+</td>\n",
              "      <td>3.0</td>\n",
              "      <td>19</td>\n",
              "      <td>17780.0</td>\n",
              "      <td>0</td>\n",
              "      <td>50</td>\n",
              "    </tr>\n",
              "    <tr>\n",
              "      <th>4</th>\n",
              "      <td>5</td>\n",
              "      <td>C8</td>\n",
              "      <td>2190</td>\n",
              "      <td>Rented</td>\n",
              "      <td>Individual</td>\n",
              "      <td>44</td>\n",
              "      <td>44</td>\n",
              "      <td>No</td>\n",
              "      <td>1</td>\n",
              "      <td>3.0</td>\n",
              "      <td>1.0</td>\n",
              "      <td>16</td>\n",
              "      <td>10404.0</td>\n",
              "      <td>0</td>\n",
              "      <td>44</td>\n",
              "    </tr>\n",
              "  </tbody>\n",
              "</table>\n",
              "</div>"
            ],
            "text/plain": [
              "   ID City_Code  Region_Code  ... Reco_Policy_Premium Response  Age\n",
              "0   1        C3         3213  ...             11628.0        0   36\n",
              "1   2        C5         1117  ...             30510.0        0   48\n",
              "2   3        C5         3732  ...              7450.0        1   32\n",
              "3   4       C24         4378  ...             17780.0        0   50\n",
              "4   5        C8         2190  ...             10404.0        0   44\n",
              "\n",
              "[5 rows x 15 columns]"
            ]
          },
          "metadata": {
            "tags": []
          },
          "execution_count": 343
        }
      ]
    },
    {
      "cell_type": "code",
      "metadata": {
        "colab": {
          "base_uri": "https://localhost:8080/"
        },
        "id": "7Jh7hKd389p_",
        "outputId": "9e00e92a-afeb-4603-e21e-d3c741ca6e4a"
      },
      "source": [
        "#fIND OUT ANY MISSING VALUES\n",
        "train_df.isna().sum()"
      ],
      "execution_count": 344,
      "outputs": [
        {
          "output_type": "execute_result",
          "data": {
            "text/plain": [
              "ID                         0\n",
              "City_Code                  0\n",
              "Region_Code                0\n",
              "Accomodation_Type          0\n",
              "Reco_Insurance_Type        0\n",
              "Upper_Age                  0\n",
              "Lower_Age                  0\n",
              "Is_Spouse                  0\n",
              "Health Indicator           0\n",
              "Holding_Policy_Duration    0\n",
              "Holding_Policy_Type        0\n",
              "Reco_Policy_Cat            0\n",
              "Reco_Policy_Premium        0\n",
              "Response                   0\n",
              "Age                        0\n",
              "dtype: int64"
            ]
          },
          "metadata": {
            "tags": []
          },
          "execution_count": 344
        }
      ]
    },
    {
      "cell_type": "markdown",
      "metadata": {
        "id": "bTCrLv98_ZNH"
      },
      "source": [
        "DATA VISUALIZATION"
      ]
    },
    {
      "cell_type": "code",
      "metadata": {
        "colab": {
          "base_uri": "https://localhost:8080/"
        },
        "id": "Tf8npWi8_cFy",
        "outputId": "46aa1367-8efe-439b-f751-8acbbe899966"
      },
      "source": [
        "sns.countplot(train_df.Response)"
      ],
      "execution_count": 345,
      "outputs": [
        {
          "output_type": "stream",
          "text": [
            "/usr/local/lib/python3.7/dist-packages/seaborn/_decorators.py:43: FutureWarning: Pass the following variable as a keyword arg: x. From version 0.12, the only valid positional argument will be `data`, and passing other arguments without an explicit keyword will result in an error or misinterpretation.\n",
            "  FutureWarning\n"
          ],
          "name": "stderr"
        },
        {
          "output_type": "execute_result",
          "data": {
            "text/plain": [
              "<matplotlib.axes._subplots.AxesSubplot at 0x7fed64e1d350>"
            ]
          },
          "metadata": {
            "tags": []
          },
          "execution_count": 345
        }
      ]
    },
    {
      "cell_type": "code",
      "metadata": {
        "colab": {
          "base_uri": "https://localhost:8080/"
        },
        "id": "71zqm0YN_iyp",
        "outputId": "d661ab22-ad15-4bde-c0ad-90a473fe5035"
      },
      "source": [
        "train_df.Response.value_counts()"
      ],
      "execution_count": 346,
      "outputs": [
        {
          "output_type": "execute_result",
          "data": {
            "text/plain": [
              "0    38673\n",
              "1    12209\n",
              "Name: Response, dtype: int64"
            ]
          },
          "metadata": {
            "tags": []
          },
          "execution_count": 346
        }
      ]
    },
    {
      "cell_type": "code",
      "metadata": {
        "colab": {
          "base_uri": "https://localhost:8080/"
        },
        "id": "AEMGpiMs_okm",
        "outputId": "74b6896f-c3cb-45c8-9125-bb8a2702888f"
      },
      "source": [
        "sns.distplot(train_df.Age)"
      ],
      "execution_count": 347,
      "outputs": [
        {
          "output_type": "stream",
          "text": [
            "/usr/local/lib/python3.7/dist-packages/seaborn/distributions.py:2557: FutureWarning: `distplot` is a deprecated function and will be removed in a future version. Please adapt your code to use either `displot` (a figure-level function with similar flexibility) or `histplot` (an axes-level function for histograms).\n",
            "  warnings.warn(msg, FutureWarning)\n"
          ],
          "name": "stderr"
        },
        {
          "output_type": "execute_result",
          "data": {
            "text/plain": [
              "<matplotlib.axes._subplots.AxesSubplot at 0x7fed64e1d350>"
            ]
          },
          "metadata": {
            "tags": []
          },
          "execution_count": 347
        }
      ]
    },
    {
      "cell_type": "code",
      "metadata": {
        "colab": {
          "base_uri": "https://localhost:8080/"
        },
        "id": "8F5Wm3GpFMbT",
        "outputId": "0f62ffef-240f-4b72-8bcf-3dfb561a99b5"
      },
      "source": [
        "sns.boxplot(y = 'Age', data = train_df,palette='Accent')"
      ],
      "execution_count": 348,
      "outputs": [
        {
          "output_type": "execute_result",
          "data": {
            "text/plain": [
              "<matplotlib.axes._subplots.AxesSubplot at 0x7fed64e1d350>"
            ]
          },
          "metadata": {
            "tags": []
          },
          "execution_count": 348
        }
      ]
    },
    {
      "cell_type": "code",
      "metadata": {
        "colab": {
          "base_uri": "https://localhost:8080/"
        },
        "id": "j_bODNSbFVR2",
        "outputId": "ec9cacc7-97c8-47a1-dd40-1d58db0d5110"
      },
      "source": [
        "sns.scatterplot(x=train_df['Age'],y=train_df['Reco_Policy_Premium'])"
      ],
      "execution_count": 349,
      "outputs": [
        {
          "output_type": "execute_result",
          "data": {
            "text/plain": [
              "<matplotlib.axes._subplots.AxesSubplot at 0x7fed64e1d350>"
            ]
          },
          "metadata": {
            "tags": []
          },
          "execution_count": 349
        }
      ]
    },
    {
      "cell_type": "code",
      "metadata": {
        "colab": {
          "base_uri": "https://localhost:8080/"
        },
        "id": "HwDQRqpzFhoU",
        "outputId": "307e7010-f079-4547-f429-f059e346e8bd"
      },
      "source": [
        "sns.distplot(train_df.Reco_Policy_Premium)"
      ],
      "execution_count": 350,
      "outputs": [
        {
          "output_type": "stream",
          "text": [
            "/usr/local/lib/python3.7/dist-packages/seaborn/distributions.py:2557: FutureWarning: `distplot` is a deprecated function and will be removed in a future version. Please adapt your code to use either `displot` (a figure-level function with similar flexibility) or `histplot` (an axes-level function for histograms).\n",
            "  warnings.warn(msg, FutureWarning)\n"
          ],
          "name": "stderr"
        },
        {
          "output_type": "execute_result",
          "data": {
            "text/plain": [
              "<matplotlib.axes._subplots.AxesSubplot at 0x7fed64e1d350>"
            ]
          },
          "metadata": {
            "tags": []
          },
          "execution_count": 350
        }
      ]
    },
    {
      "cell_type": "code",
      "metadata": {
        "colab": {
          "base_uri": "https://localhost:8080/"
        },
        "id": "3SAjaKf7F7tB",
        "outputId": "c3d2766a-5aac-4eee-eb96-69ce24b50f1c"
      },
      "source": [
        "sns.boxplot(y = 'Reco_Policy_Premium', data = train_df,palette='Accent')"
      ],
      "execution_count": 351,
      "outputs": [
        {
          "output_type": "execute_result",
          "data": {
            "text/plain": [
              "<matplotlib.axes._subplots.AxesSubplot at 0x7fed64e1d350>"
            ]
          },
          "metadata": {
            "tags": []
          },
          "execution_count": 351
        }
      ]
    },
    {
      "cell_type": "code",
      "metadata": {
        "colab": {
          "base_uri": "https://localhost:8080/"
        },
        "id": "mK74QjIPGSh0",
        "outputId": "b01e1c85-aab6-463a-df65-866e9d1cfa28"
      },
      "source": [
        "corr = train_df.corr()\n",
        "\n",
        "# Generate a mask for the upper triangle\n",
        "mask = np.triu(np.ones_like(corr, dtype=bool))\n",
        "\n",
        "# Set up the matplotlib figure\n",
        "f, ax = plt.subplots(figsize=(10, 5))\n",
        "\n",
        "# Generate a custom diverging colormap\n",
        "cmap = sns.diverging_palette(200, 20, as_cmap=True)\n",
        "\n",
        "# Draw the heatmap with the mask and correct aspect ratio\n",
        "sns.heatmap(corr, mask=mask, cmap=cmap, vmax=.5, center=0,\n",
        "            square=True, linewidths=.5, cbar_kws={\"shrink\": .5})\n"
      ],
      "execution_count": 352,
      "outputs": [
        {
          "output_type": "execute_result",
          "data": {
            "text/plain": [
              "<matplotlib.axes._subplots.AxesSubplot at 0x7fed2ee8ee50>"
            ]
          },
          "metadata": {
            "tags": []
          },
          "execution_count": 352
        }
      ]
    },
    {
      "cell_type": "code",
      "metadata": {
        "colab": {
          "base_uri": "https://localhost:8080/"
        },
        "id": "JtZOQ5ue41b1",
        "outputId": "88ca7131-c16e-4d52-fac9-f93ca8759a1f"
      },
      "source": [
        "sns.scatterplot(x=train_df['Reco_Policy_Cat'],y=train_df['Reco_Policy_Premium'])"
      ],
      "execution_count": 353,
      "outputs": [
        {
          "output_type": "execute_result",
          "data": {
            "text/plain": [
              "<matplotlib.axes._subplots.AxesSubplot at 0x7fed2ee8ee50>"
            ]
          },
          "metadata": {
            "tags": []
          },
          "execution_count": 353
        }
      ]
    },
    {
      "cell_type": "code",
      "metadata": {
        "colab": {
          "base_uri": "https://localhost:8080/"
        },
        "id": "1lecYzJ56y9n",
        "outputId": "462db418-648d-4d6b-a238-abec69e06cb4"
      },
      "source": [
        "sns.barplot(x=train_df['Reco_Insurance_Type'],y=train_df['Response'])"
      ],
      "execution_count": 354,
      "outputs": [
        {
          "output_type": "execute_result",
          "data": {
            "text/plain": [
              "<matplotlib.axes._subplots.AxesSubplot at 0x7fed2ee8ee50>"
            ]
          },
          "metadata": {
            "tags": []
          },
          "execution_count": 354
        }
      ]
    },
    {
      "cell_type": "code",
      "metadata": {
        "colab": {
          "base_uri": "https://localhost:8080/"
        },
        "id": "1RjeiqRs7rhh",
        "outputId": "2d12d888-fd9e-43de-83bd-cd3286c56b25"
      },
      "source": [
        "sns.barplot(x=train_df['Is_Spouse'],y=train_df['Response'])"
      ],
      "execution_count": 355,
      "outputs": [
        {
          "output_type": "execute_result",
          "data": {
            "text/plain": [
              "<matplotlib.axes._subplots.AxesSubplot at 0x7fed2ee8ee50>"
            ]
          },
          "metadata": {
            "tags": []
          },
          "execution_count": 355
        }
      ]
    },
    {
      "cell_type": "code",
      "metadata": {
        "colab": {
          "base_uri": "https://localhost:8080/"
        },
        "id": "cfpMqyaI8IEp",
        "outputId": "f9fa927a-56e6-4e70-f7d3-139b79f25e61"
      },
      "source": [
        "sns.barplot(x=train_df['Holding_Policy_Type'],y=train_df['Reco_Policy_Cat'])"
      ],
      "execution_count": 356,
      "outputs": [
        {
          "output_type": "execute_result",
          "data": {
            "text/plain": [
              "<matplotlib.axes._subplots.AxesSubplot at 0x7fed2ee8ee50>"
            ]
          },
          "metadata": {
            "tags": []
          },
          "execution_count": 356
        }
      ]
    },
    {
      "cell_type": "code",
      "metadata": {
        "colab": {
          "base_uri": "https://localhost:8080/"
        },
        "id": "kfFIm1Ah88wK",
        "outputId": "57775920-8bc9-4e90-8e87-eb084b815c66"
      },
      "source": [
        "sns.scatterplot(x=train_df['Holding_Policy_Duration'],y=train_df['Reco_Policy_Premium'])\n",
        "sns.barplot(x=train_df['Holding_Policy_Duration'],y=train_df['Reco_Policy_Premium'])"
      ],
      "execution_count": 357,
      "outputs": [
        {
          "output_type": "execute_result",
          "data": {
            "text/plain": [
              "<matplotlib.axes._subplots.AxesSubplot at 0x7fed2ee8ee50>"
            ]
          },
          "metadata": {
            "tags": []
          },
          "execution_count": 357
        }
      ]
    },
    {
      "cell_type": "code",
      "metadata": {
        "colab": {
          "base_uri": "https://localhost:8080/"
        },
        "id": "rMDQJx0R9Srg",
        "outputId": "eb761ba5-1588-4077-ed12-4e6e4d10493b"
      },
      "source": [
        "sns.barplot(x=train_df['Holding_Policy_Type'],y=train_df['Holding_Policy_Duration'])"
      ],
      "execution_count": 358,
      "outputs": [
        {
          "output_type": "execute_result",
          "data": {
            "text/plain": [
              "<matplotlib.axes._subplots.AxesSubplot at 0x7fed2ee8ee50>"
            ]
          },
          "metadata": {
            "tags": []
          },
          "execution_count": 358
        }
      ]
    },
    {
      "cell_type": "code",
      "metadata": {
        "id": "B3KuWXjq_0mx"
      },
      "source": [
        "sns.catplot(x=\"Age\", y=\"Reco_Policy_Cat\",data=train_df, kind=\"bar\");\n"
      ],
      "execution_count": 359,
      "outputs": []
    },
    {
      "cell_type": "markdown",
      "metadata": {
        "id": "fEaGTW1NGc3k"
      },
      "source": [
        "DATA MANIPULATION"
      ]
    },
    {
      "cell_type": "code",
      "metadata": {
        "colab": {
          "base_uri": "https://localhost:8080/"
        },
        "id": "CSUMwPfh3z9L",
        "outputId": "6ee71263-7f54-48ce-9bdc-8721f3895b75"
      },
      "source": [
        "Accomodation_Type  = {'Owned': 1,'Rented': 0} \n",
        "train_df.Accomodation_Type = [Accomodation_Type[item] for item in train_df.Accomodation_Type]\n",
        "test_df.Accomodation_Type = [Accomodation_Type[item] for item in test_df.Accomodation_Type]\n",
        "print(train_df)"
      ],
      "execution_count": 360,
      "outputs": [
        {
          "output_type": "stream",
          "text": [
            "          ID City_Code  Region_Code  ...  Reco_Policy_Premium Response  Age\n",
            "0          1        C3         3213  ...              11628.0        0   36\n",
            "1          2        C5         1117  ...              30510.0        0   48\n",
            "2          3        C5         3732  ...               7450.0        1   32\n",
            "3          4       C24         4378  ...              17780.0        0   50\n",
            "4          5        C8         2190  ...              10404.0        0   44\n",
            "...      ...       ...          ...  ...                  ...      ...  ...\n",
            "50877  50878        C4          845  ...               7704.0        0   22\n",
            "50878  50879        C5         4188  ...               5408.0        0   27\n",
            "50879  50880        C1          442  ...              11374.0        0   63\n",
            "50880  50881        C1            4  ...              28179.2        1   60\n",
            "50881  50882        C3         3866  ...              11424.0        0   24\n",
            "\n",
            "[50882 rows x 15 columns]\n"
          ],
          "name": "stdout"
        }
      ]
    },
    {
      "cell_type": "code",
      "metadata": {
        "colab": {
          "base_uri": "https://localhost:8080/"
        },
        "id": "8bHhhLJ1-P1W",
        "outputId": "52ae0e0e-9d91-465b-a494-52de872d077d"
      },
      "source": [
        "Reco_Insurance_Type  = {'Joint': 1,'Individual': 0} \n",
        "train_df.Reco_Insurance_Type = [Reco_Insurance_Type[item] for item in train_df.Reco_Insurance_Type]\n",
        "test_df.Reco_Insurance_Type = [Reco_Insurance_Type[item] for item in test_df.Reco_Insurance_Type]\n",
        "print(train_df)"
      ],
      "execution_count": 361,
      "outputs": [
        {
          "output_type": "stream",
          "text": [
            "          ID City_Code  Region_Code  ...  Reco_Policy_Premium  Response  Age\n",
            "0          1        C3         3213  ...              11628.0         0   36\n",
            "1          2        C5         1117  ...              30510.0         0   48\n",
            "2          3        C5         3732  ...               7450.0         1   32\n",
            "3          4       C24         4378  ...              17780.0         0   50\n",
            "4          5        C8         2190  ...              10404.0         0   44\n",
            "...      ...       ...          ...  ...                  ...       ...  ...\n",
            "50877  50878        C4          845  ...               7704.0         0   22\n",
            "50878  50879        C5         4188  ...               5408.0         0   27\n",
            "50879  50880        C1          442  ...              11374.0         0   63\n",
            "50880  50881        C1            4  ...              28179.2         1   60\n",
            "50881  50882        C3         3866  ...              11424.0         0   24\n",
            "\n",
            "[50882 rows x 15 columns]\n"
          ],
          "name": "stdout"
        }
      ]
    },
    {
      "cell_type": "code",
      "metadata": {
        "colab": {
          "base_uri": "https://localhost:8080/"
        },
        "id": "iy-u4fAj_NnV",
        "outputId": "9135a325-df74-462d-d242-fabe9c784c82"
      },
      "source": [
        "Is_Spouse = {'Yes':1,'No':0}\n",
        "train_df.Is_Spouse = [Is_Spouse[item] for item in train_df.Is_Spouse]\n",
        "test_df.Is_Spouse = [Is_Spouse[item] for item in test_df.Is_Spouse]\n",
        "print(train_df)"
      ],
      "execution_count": 362,
      "outputs": [
        {
          "output_type": "stream",
          "text": [
            "          ID City_Code  Region_Code  ...  Reco_Policy_Premium  Response  Age\n",
            "0          1        C3         3213  ...              11628.0         0   36\n",
            "1          2        C5         1117  ...              30510.0         0   48\n",
            "2          3        C5         3732  ...               7450.0         1   32\n",
            "3          4       C24         4378  ...              17780.0         0   50\n",
            "4          5        C8         2190  ...              10404.0         0   44\n",
            "...      ...       ...          ...  ...                  ...       ...  ...\n",
            "50877  50878        C4          845  ...               7704.0         0   22\n",
            "50878  50879        C5         4188  ...               5408.0         0   27\n",
            "50879  50880        C1          442  ...              11374.0         0   63\n",
            "50880  50881        C1            4  ...              28179.2         1   60\n",
            "50881  50882        C3         3866  ...              11424.0         0   24\n",
            "\n",
            "[50882 rows x 15 columns]\n"
          ],
          "name": "stdout"
        }
      ]
    },
    {
      "cell_type": "code",
      "metadata": {
        "colab": {
          "base_uri": "https://localhost:8080/",
          "height": 244
        },
        "id": "qxTM-8SzABYs",
        "outputId": "d79f90bf-708a-4416-afc7-66d08de29b7f"
      },
      "source": [
        "train_df['City_Code'] = pd.factorize(train_df[\"City_Code\"])[0]\n",
        "train_df['Region_Code'] = pd.factorize(train_df[\"Region_Code\"])[0]\n",
        "train_df['Holding_Policy_Duration'] = pd.factorize(train_df[\"Holding_Policy_Duration\"])[0]\n",
        "test_df['City_Code'] = pd.factorize(test_df[\"City_Code\"])[0]\n",
        "test_df['Region_Code'] = pd.factorize(test_df[\"Region_Code\"])[0]\n",
        "test_df['Holding_Policy_Duration'] = pd.factorize(test_df[\"Holding_Policy_Duration\"])[0]\n",
        "train_df.head()"
      ],
      "execution_count": 363,
      "outputs": [
        {
          "output_type": "execute_result",
          "data": {
            "text/html": [
              "<div>\n",
              "<style scoped>\n",
              "    .dataframe tbody tr th:only-of-type {\n",
              "        vertical-align: middle;\n",
              "    }\n",
              "\n",
              "    .dataframe tbody tr th {\n",
              "        vertical-align: top;\n",
              "    }\n",
              "\n",
              "    .dataframe thead th {\n",
              "        text-align: right;\n",
              "    }\n",
              "</style>\n",
              "<table border=\"1\" class=\"dataframe\">\n",
              "  <thead>\n",
              "    <tr style=\"text-align: right;\">\n",
              "      <th></th>\n",
              "      <th>ID</th>\n",
              "      <th>City_Code</th>\n",
              "      <th>Region_Code</th>\n",
              "      <th>Accomodation_Type</th>\n",
              "      <th>Reco_Insurance_Type</th>\n",
              "      <th>Upper_Age</th>\n",
              "      <th>Lower_Age</th>\n",
              "      <th>Is_Spouse</th>\n",
              "      <th>Health Indicator</th>\n",
              "      <th>Holding_Policy_Duration</th>\n",
              "      <th>Holding_Policy_Type</th>\n",
              "      <th>Reco_Policy_Cat</th>\n",
              "      <th>Reco_Policy_Premium</th>\n",
              "      <th>Response</th>\n",
              "      <th>Age</th>\n",
              "    </tr>\n",
              "  </thead>\n",
              "  <tbody>\n",
              "    <tr>\n",
              "      <th>0</th>\n",
              "      <td>1</td>\n",
              "      <td>0</td>\n",
              "      <td>0</td>\n",
              "      <td>0</td>\n",
              "      <td>0</td>\n",
              "      <td>36</td>\n",
              "      <td>36</td>\n",
              "      <td>0</td>\n",
              "      <td>0</td>\n",
              "      <td>0</td>\n",
              "      <td>3.0</td>\n",
              "      <td>22</td>\n",
              "      <td>11628.0</td>\n",
              "      <td>0</td>\n",
              "      <td>36</td>\n",
              "    </tr>\n",
              "    <tr>\n",
              "      <th>1</th>\n",
              "      <td>2</td>\n",
              "      <td>1</td>\n",
              "      <td>1</td>\n",
              "      <td>1</td>\n",
              "      <td>1</td>\n",
              "      <td>75</td>\n",
              "      <td>22</td>\n",
              "      <td>0</td>\n",
              "      <td>1</td>\n",
              "      <td>1</td>\n",
              "      <td>3.0</td>\n",
              "      <td>22</td>\n",
              "      <td>30510.0</td>\n",
              "      <td>0</td>\n",
              "      <td>48</td>\n",
              "    </tr>\n",
              "    <tr>\n",
              "      <th>2</th>\n",
              "      <td>3</td>\n",
              "      <td>1</td>\n",
              "      <td>2</td>\n",
              "      <td>1</td>\n",
              "      <td>0</td>\n",
              "      <td>32</td>\n",
              "      <td>32</td>\n",
              "      <td>0</td>\n",
              "      <td>0</td>\n",
              "      <td>1</td>\n",
              "      <td>1.0</td>\n",
              "      <td>19</td>\n",
              "      <td>7450.0</td>\n",
              "      <td>1</td>\n",
              "      <td>32</td>\n",
              "    </tr>\n",
              "    <tr>\n",
              "      <th>3</th>\n",
              "      <td>4</td>\n",
              "      <td>2</td>\n",
              "      <td>3</td>\n",
              "      <td>1</td>\n",
              "      <td>1</td>\n",
              "      <td>52</td>\n",
              "      <td>48</td>\n",
              "      <td>0</td>\n",
              "      <td>0</td>\n",
              "      <td>0</td>\n",
              "      <td>3.0</td>\n",
              "      <td>19</td>\n",
              "      <td>17780.0</td>\n",
              "      <td>0</td>\n",
              "      <td>50</td>\n",
              "    </tr>\n",
              "    <tr>\n",
              "      <th>4</th>\n",
              "      <td>5</td>\n",
              "      <td>3</td>\n",
              "      <td>4</td>\n",
              "      <td>0</td>\n",
              "      <td>0</td>\n",
              "      <td>44</td>\n",
              "      <td>44</td>\n",
              "      <td>0</td>\n",
              "      <td>1</td>\n",
              "      <td>2</td>\n",
              "      <td>1.0</td>\n",
              "      <td>16</td>\n",
              "      <td>10404.0</td>\n",
              "      <td>0</td>\n",
              "      <td>44</td>\n",
              "    </tr>\n",
              "  </tbody>\n",
              "</table>\n",
              "</div>"
            ],
            "text/plain": [
              "   ID  City_Code  Region_Code  ...  Reco_Policy_Premium  Response  Age\n",
              "0   1          0            0  ...              11628.0         0   36\n",
              "1   2          1            1  ...              30510.0         0   48\n",
              "2   3          1            2  ...               7450.0         1   32\n",
              "3   4          2            3  ...              17780.0         0   50\n",
              "4   5          3            4  ...              10404.0         0   44\n",
              "\n",
              "[5 rows x 15 columns]"
            ]
          },
          "metadata": {
            "tags": []
          },
          "execution_count": 363
        }
      ]
    },
    {
      "cell_type": "code",
      "metadata": {
        "id": "QCiwqORqO-Vi"
      },
      "source": [
        "train_df['Region_Code'] = pd.factorize(train_df[\"Region_Code\"])[0]\n"
      ],
      "execution_count": 364,
      "outputs": []
    },
    {
      "cell_type": "code",
      "metadata": {
        "id": "96BjCGaDPdVC"
      },
      "source": [
        "test_df['Region_Code'] = pd.factorize(test_df[\"Region_Code\"])[0]"
      ],
      "execution_count": 365,
      "outputs": []
    },
    {
      "cell_type": "code",
      "metadata": {
        "colab": {
          "base_uri": "https://localhost:8080/",
          "height": 244
        },
        "id": "jKG57wxDOIpJ",
        "outputId": "bc950191-ee3a-4ddc-f0bd-fcb4b5973750"
      },
      "source": [
        "train_df.head()"
      ],
      "execution_count": 366,
      "outputs": [
        {
          "output_type": "execute_result",
          "data": {
            "text/html": [
              "<div>\n",
              "<style scoped>\n",
              "    .dataframe tbody tr th:only-of-type {\n",
              "        vertical-align: middle;\n",
              "    }\n",
              "\n",
              "    .dataframe tbody tr th {\n",
              "        vertical-align: top;\n",
              "    }\n",
              "\n",
              "    .dataframe thead th {\n",
              "        text-align: right;\n",
              "    }\n",
              "</style>\n",
              "<table border=\"1\" class=\"dataframe\">\n",
              "  <thead>\n",
              "    <tr style=\"text-align: right;\">\n",
              "      <th></th>\n",
              "      <th>ID</th>\n",
              "      <th>City_Code</th>\n",
              "      <th>Region_Code</th>\n",
              "      <th>Accomodation_Type</th>\n",
              "      <th>Reco_Insurance_Type</th>\n",
              "      <th>Upper_Age</th>\n",
              "      <th>Lower_Age</th>\n",
              "      <th>Is_Spouse</th>\n",
              "      <th>Health Indicator</th>\n",
              "      <th>Holding_Policy_Duration</th>\n",
              "      <th>Holding_Policy_Type</th>\n",
              "      <th>Reco_Policy_Cat</th>\n",
              "      <th>Reco_Policy_Premium</th>\n",
              "      <th>Response</th>\n",
              "      <th>Age</th>\n",
              "    </tr>\n",
              "  </thead>\n",
              "  <tbody>\n",
              "    <tr>\n",
              "      <th>0</th>\n",
              "      <td>1</td>\n",
              "      <td>0</td>\n",
              "      <td>0</td>\n",
              "      <td>0</td>\n",
              "      <td>0</td>\n",
              "      <td>36</td>\n",
              "      <td>36</td>\n",
              "      <td>0</td>\n",
              "      <td>0</td>\n",
              "      <td>0</td>\n",
              "      <td>3.0</td>\n",
              "      <td>22</td>\n",
              "      <td>11628.0</td>\n",
              "      <td>0</td>\n",
              "      <td>36</td>\n",
              "    </tr>\n",
              "    <tr>\n",
              "      <th>1</th>\n",
              "      <td>2</td>\n",
              "      <td>1</td>\n",
              "      <td>1</td>\n",
              "      <td>1</td>\n",
              "      <td>1</td>\n",
              "      <td>75</td>\n",
              "      <td>22</td>\n",
              "      <td>0</td>\n",
              "      <td>1</td>\n",
              "      <td>1</td>\n",
              "      <td>3.0</td>\n",
              "      <td>22</td>\n",
              "      <td>30510.0</td>\n",
              "      <td>0</td>\n",
              "      <td>48</td>\n",
              "    </tr>\n",
              "    <tr>\n",
              "      <th>2</th>\n",
              "      <td>3</td>\n",
              "      <td>1</td>\n",
              "      <td>2</td>\n",
              "      <td>1</td>\n",
              "      <td>0</td>\n",
              "      <td>32</td>\n",
              "      <td>32</td>\n",
              "      <td>0</td>\n",
              "      <td>0</td>\n",
              "      <td>1</td>\n",
              "      <td>1.0</td>\n",
              "      <td>19</td>\n",
              "      <td>7450.0</td>\n",
              "      <td>1</td>\n",
              "      <td>32</td>\n",
              "    </tr>\n",
              "    <tr>\n",
              "      <th>3</th>\n",
              "      <td>4</td>\n",
              "      <td>2</td>\n",
              "      <td>3</td>\n",
              "      <td>1</td>\n",
              "      <td>1</td>\n",
              "      <td>52</td>\n",
              "      <td>48</td>\n",
              "      <td>0</td>\n",
              "      <td>0</td>\n",
              "      <td>0</td>\n",
              "      <td>3.0</td>\n",
              "      <td>19</td>\n",
              "      <td>17780.0</td>\n",
              "      <td>0</td>\n",
              "      <td>50</td>\n",
              "    </tr>\n",
              "    <tr>\n",
              "      <th>4</th>\n",
              "      <td>5</td>\n",
              "      <td>3</td>\n",
              "      <td>4</td>\n",
              "      <td>0</td>\n",
              "      <td>0</td>\n",
              "      <td>44</td>\n",
              "      <td>44</td>\n",
              "      <td>0</td>\n",
              "      <td>1</td>\n",
              "      <td>2</td>\n",
              "      <td>1.0</td>\n",
              "      <td>16</td>\n",
              "      <td>10404.0</td>\n",
              "      <td>0</td>\n",
              "      <td>44</td>\n",
              "    </tr>\n",
              "  </tbody>\n",
              "</table>\n",
              "</div>"
            ],
            "text/plain": [
              "   ID  City_Code  Region_Code  ...  Reco_Policy_Premium  Response  Age\n",
              "0   1          0            0  ...              11628.0         0   36\n",
              "1   2          1            1  ...              30510.0         0   48\n",
              "2   3          1            2  ...               7450.0         1   32\n",
              "3   4          2            3  ...              17780.0         0   50\n",
              "4   5          3            4  ...              10404.0         0   44\n",
              "\n",
              "[5 rows x 15 columns]"
            ]
          },
          "metadata": {
            "tags": []
          },
          "execution_count": 366
        }
      ]
    },
    {
      "cell_type": "code",
      "metadata": {
        "colab": {
          "base_uri": "https://localhost:8080/",
          "height": 244
        },
        "id": "ZGBBHqzrOOuQ",
        "outputId": "6f20b8ba-6796-4d70-a96f-548e25e8326b"
      },
      "source": [
        "test_df.head()"
      ],
      "execution_count": 367,
      "outputs": [
        {
          "output_type": "execute_result",
          "data": {
            "text/html": [
              "<div>\n",
              "<style scoped>\n",
              "    .dataframe tbody tr th:only-of-type {\n",
              "        vertical-align: middle;\n",
              "    }\n",
              "\n",
              "    .dataframe tbody tr th {\n",
              "        vertical-align: top;\n",
              "    }\n",
              "\n",
              "    .dataframe thead th {\n",
              "        text-align: right;\n",
              "    }\n",
              "</style>\n",
              "<table border=\"1\" class=\"dataframe\">\n",
              "  <thead>\n",
              "    <tr style=\"text-align: right;\">\n",
              "      <th></th>\n",
              "      <th>ID</th>\n",
              "      <th>City_Code</th>\n",
              "      <th>Region_Code</th>\n",
              "      <th>Accomodation_Type</th>\n",
              "      <th>Reco_Insurance_Type</th>\n",
              "      <th>Upper_Age</th>\n",
              "      <th>Lower_Age</th>\n",
              "      <th>Is_Spouse</th>\n",
              "      <th>Health Indicator</th>\n",
              "      <th>Holding_Policy_Duration</th>\n",
              "      <th>Holding_Policy_Type</th>\n",
              "      <th>Reco_Policy_Cat</th>\n",
              "      <th>Reco_Policy_Premium</th>\n",
              "      <th>Age</th>\n",
              "    </tr>\n",
              "  </thead>\n",
              "  <tbody>\n",
              "    <tr>\n",
              "      <th>0</th>\n",
              "      <td>50883</td>\n",
              "      <td>0</td>\n",
              "      <td>0</td>\n",
              "      <td>1</td>\n",
              "      <td>0</td>\n",
              "      <td>30</td>\n",
              "      <td>30</td>\n",
              "      <td>0</td>\n",
              "      <td>0</td>\n",
              "      <td>0</td>\n",
              "      <td>3.0</td>\n",
              "      <td>5</td>\n",
              "      <td>11934.0</td>\n",
              "      <td>30</td>\n",
              "    </tr>\n",
              "    <tr>\n",
              "      <th>1</th>\n",
              "      <td>50884</td>\n",
              "      <td>1</td>\n",
              "      <td>1</td>\n",
              "      <td>1</td>\n",
              "      <td>1</td>\n",
              "      <td>69</td>\n",
              "      <td>68</td>\n",
              "      <td>1</td>\n",
              "      <td>0</td>\n",
              "      <td>1</td>\n",
              "      <td>3.0</td>\n",
              "      <td>18</td>\n",
              "      <td>32204.8</td>\n",
              "      <td>68</td>\n",
              "    </tr>\n",
              "    <tr>\n",
              "      <th>2</th>\n",
              "      <td>50885</td>\n",
              "      <td>0</td>\n",
              "      <td>2</td>\n",
              "      <td>0</td>\n",
              "      <td>0</td>\n",
              "      <td>28</td>\n",
              "      <td>28</td>\n",
              "      <td>0</td>\n",
              "      <td>1</td>\n",
              "      <td>2</td>\n",
              "      <td>4.0</td>\n",
              "      <td>17</td>\n",
              "      <td>9240.0</td>\n",
              "      <td>28</td>\n",
              "    </tr>\n",
              "    <tr>\n",
              "      <th>3</th>\n",
              "      <td>50886</td>\n",
              "      <td>2</td>\n",
              "      <td>3</td>\n",
              "      <td>0</td>\n",
              "      <td>0</td>\n",
              "      <td>23</td>\n",
              "      <td>23</td>\n",
              "      <td>0</td>\n",
              "      <td>1</td>\n",
              "      <td>1</td>\n",
              "      <td>3.0</td>\n",
              "      <td>18</td>\n",
              "      <td>9086.0</td>\n",
              "      <td>23</td>\n",
              "    </tr>\n",
              "    <tr>\n",
              "      <th>4</th>\n",
              "      <td>50887</td>\n",
              "      <td>0</td>\n",
              "      <td>4</td>\n",
              "      <td>1</td>\n",
              "      <td>0</td>\n",
              "      <td>75</td>\n",
              "      <td>75</td>\n",
              "      <td>0</td>\n",
              "      <td>1</td>\n",
              "      <td>3</td>\n",
              "      <td>3.0</td>\n",
              "      <td>5</td>\n",
              "      <td>22534.0</td>\n",
              "      <td>75</td>\n",
              "    </tr>\n",
              "  </tbody>\n",
              "</table>\n",
              "</div>"
            ],
            "text/plain": [
              "      ID  City_Code  Region_Code  ...  Reco_Policy_Cat  Reco_Policy_Premium  Age\n",
              "0  50883          0            0  ...                5              11934.0   30\n",
              "1  50884          1            1  ...               18              32204.8   68\n",
              "2  50885          0            2  ...               17               9240.0   28\n",
              "3  50886          2            3  ...               18               9086.0   23\n",
              "4  50887          0            4  ...                5              22534.0   75\n",
              "\n",
              "[5 rows x 14 columns]"
            ]
          },
          "metadata": {
            "tags": []
          },
          "execution_count": 367
        }
      ]
    },
    {
      "cell_type": "code",
      "metadata": {
        "colab": {
          "base_uri": "https://localhost:8080/"
        },
        "id": "zTl1tlaEaoQx",
        "outputId": "8cf68639-714d-4613-ac10-2aeb125f0e25"
      },
      "source": [
        "train_df.isna().sum()"
      ],
      "execution_count": 368,
      "outputs": [
        {
          "output_type": "execute_result",
          "data": {
            "text/plain": [
              "ID                         0\n",
              "City_Code                  0\n",
              "Region_Code                0\n",
              "Accomodation_Type          0\n",
              "Reco_Insurance_Type        0\n",
              "Upper_Age                  0\n",
              "Lower_Age                  0\n",
              "Is_Spouse                  0\n",
              "Health Indicator           0\n",
              "Holding_Policy_Duration    0\n",
              "Holding_Policy_Type        0\n",
              "Reco_Policy_Cat            0\n",
              "Reco_Policy_Premium        0\n",
              "Response                   0\n",
              "Age                        0\n",
              "dtype: int64"
            ]
          },
          "metadata": {
            "tags": []
          },
          "execution_count": 368
        }
      ]
    },
    {
      "cell_type": "code",
      "metadata": {
        "id": "vKIvnorKfzA8",
        "outputId": "3e5a437b-9154-4c11-8e34-343e5c2a0e11",
        "colab": {
          "base_uri": "https://localhost:8080/"
        }
      },
      "source": [
        "train_df.dtypes"
      ],
      "execution_count": 369,
      "outputs": [
        {
          "output_type": "execute_result",
          "data": {
            "text/plain": [
              "ID                           int64\n",
              "City_Code                    int64\n",
              "Region_Code                  int64\n",
              "Accomodation_Type            int64\n",
              "Reco_Insurance_Type          int64\n",
              "Upper_Age                    int64\n",
              "Lower_Age                    int64\n",
              "Is_Spouse                    int64\n",
              "Health Indicator             int64\n",
              "Holding_Policy_Duration      int64\n",
              "Holding_Policy_Type        float64\n",
              "Reco_Policy_Cat              int64\n",
              "Reco_Policy_Premium        float64\n",
              "Response                     int64\n",
              "Age                          int64\n",
              "dtype: object"
            ]
          },
          "metadata": {
            "tags": []
          },
          "execution_count": 369
        }
      ]
    },
    {
      "cell_type": "code",
      "metadata": {
        "id": "rYmBfctJSGK9"
      },
      "source": [
        "train_df = train_df.drop(['Region_Code'],axis = 1)\n",
        "train_df = train_df.drop(['Upper_Age'],axis = 1)\n",
        "test_df = test_df.drop(['Upper_Age'],axis = 1)\n",
        "train_df = train_df.drop(['Lower_Age'],axis = 1)\n",
        "test_df = test_df.drop(['Lower_Age'],axis = 1)\n",
        "X = train_df.drop(['Response'],axis=1).values\n",
        "y = train_df['Response'].values"
      ],
      "execution_count": 370,
      "outputs": []
    },
    {
      "cell_type": "code",
      "metadata": {
        "id": "UN5ALEuF5825"
      },
      "source": [
        "test_df = test_df.drop(['Region_Code'],axis = 1)"
      ],
      "execution_count": 371,
      "outputs": []
    },
    {
      "cell_type": "code",
      "metadata": {
        "colab": {
          "base_uri": "https://localhost:8080/",
          "height": 244
        },
        "id": "j-5ZshTkT-r3",
        "outputId": "7994aaad-62da-4eea-cf68-991988f9a534"
      },
      "source": [
        "train_df.head()"
      ],
      "execution_count": 372,
      "outputs": [
        {
          "output_type": "execute_result",
          "data": {
            "text/html": [
              "<div>\n",
              "<style scoped>\n",
              "    .dataframe tbody tr th:only-of-type {\n",
              "        vertical-align: middle;\n",
              "    }\n",
              "\n",
              "    .dataframe tbody tr th {\n",
              "        vertical-align: top;\n",
              "    }\n",
              "\n",
              "    .dataframe thead th {\n",
              "        text-align: right;\n",
              "    }\n",
              "</style>\n",
              "<table border=\"1\" class=\"dataframe\">\n",
              "  <thead>\n",
              "    <tr style=\"text-align: right;\">\n",
              "      <th></th>\n",
              "      <th>ID</th>\n",
              "      <th>City_Code</th>\n",
              "      <th>Accomodation_Type</th>\n",
              "      <th>Reco_Insurance_Type</th>\n",
              "      <th>Is_Spouse</th>\n",
              "      <th>Health Indicator</th>\n",
              "      <th>Holding_Policy_Duration</th>\n",
              "      <th>Holding_Policy_Type</th>\n",
              "      <th>Reco_Policy_Cat</th>\n",
              "      <th>Reco_Policy_Premium</th>\n",
              "      <th>Response</th>\n",
              "      <th>Age</th>\n",
              "    </tr>\n",
              "  </thead>\n",
              "  <tbody>\n",
              "    <tr>\n",
              "      <th>0</th>\n",
              "      <td>1</td>\n",
              "      <td>0</td>\n",
              "      <td>0</td>\n",
              "      <td>0</td>\n",
              "      <td>0</td>\n",
              "      <td>0</td>\n",
              "      <td>0</td>\n",
              "      <td>3.0</td>\n",
              "      <td>22</td>\n",
              "      <td>11628.0</td>\n",
              "      <td>0</td>\n",
              "      <td>36</td>\n",
              "    </tr>\n",
              "    <tr>\n",
              "      <th>1</th>\n",
              "      <td>2</td>\n",
              "      <td>1</td>\n",
              "      <td>1</td>\n",
              "      <td>1</td>\n",
              "      <td>0</td>\n",
              "      <td>1</td>\n",
              "      <td>1</td>\n",
              "      <td>3.0</td>\n",
              "      <td>22</td>\n",
              "      <td>30510.0</td>\n",
              "      <td>0</td>\n",
              "      <td>48</td>\n",
              "    </tr>\n",
              "    <tr>\n",
              "      <th>2</th>\n",
              "      <td>3</td>\n",
              "      <td>1</td>\n",
              "      <td>1</td>\n",
              "      <td>0</td>\n",
              "      <td>0</td>\n",
              "      <td>0</td>\n",
              "      <td>1</td>\n",
              "      <td>1.0</td>\n",
              "      <td>19</td>\n",
              "      <td>7450.0</td>\n",
              "      <td>1</td>\n",
              "      <td>32</td>\n",
              "    </tr>\n",
              "    <tr>\n",
              "      <th>3</th>\n",
              "      <td>4</td>\n",
              "      <td>2</td>\n",
              "      <td>1</td>\n",
              "      <td>1</td>\n",
              "      <td>0</td>\n",
              "      <td>0</td>\n",
              "      <td>0</td>\n",
              "      <td>3.0</td>\n",
              "      <td>19</td>\n",
              "      <td>17780.0</td>\n",
              "      <td>0</td>\n",
              "      <td>50</td>\n",
              "    </tr>\n",
              "    <tr>\n",
              "      <th>4</th>\n",
              "      <td>5</td>\n",
              "      <td>3</td>\n",
              "      <td>0</td>\n",
              "      <td>0</td>\n",
              "      <td>0</td>\n",
              "      <td>1</td>\n",
              "      <td>2</td>\n",
              "      <td>1.0</td>\n",
              "      <td>16</td>\n",
              "      <td>10404.0</td>\n",
              "      <td>0</td>\n",
              "      <td>44</td>\n",
              "    </tr>\n",
              "  </tbody>\n",
              "</table>\n",
              "</div>"
            ],
            "text/plain": [
              "   ID  City_Code  Accomodation_Type  ...  Reco_Policy_Premium  Response  Age\n",
              "0   1          0                  0  ...              11628.0         0   36\n",
              "1   2          1                  1  ...              30510.0         0   48\n",
              "2   3          1                  1  ...               7450.0         1   32\n",
              "3   4          2                  1  ...              17780.0         0   50\n",
              "4   5          3                  0  ...              10404.0         0   44\n",
              "\n",
              "[5 rows x 12 columns]"
            ]
          },
          "metadata": {
            "tags": []
          },
          "execution_count": 372
        }
      ]
    },
    {
      "cell_type": "markdown",
      "metadata": {
        "id": "QWr0ClxBGmxF"
      },
      "source": [
        "PREDICTING THE MODEL"
      ]
    },
    {
      "cell_type": "code",
      "metadata": {
        "id": "lX10jOBFUQWh"
      },
      "source": [
        "features = [\"Health Indicator\",\"Holding_Policy_Type\",\"Reco_Policy_Cat\",\"Holding_Policy_Duration\",\"Accomodation_Type\",\"Is_Spouse\",\"City_Code\",\"Age\",\"Reco_Policy_Premium\"]\n",
        "target = \"Response\"\n",
        "nums_cols = [\"Age\",\"Reco_Policy_Premium\"]\n",
        "features_1 = [\"Health Indicator\",\"Reco_Policy_Cat\",\"Accomodation_Type\",\"Is_Spouse\",\"City_Code\"]"
      ],
      "execution_count": 373,
      "outputs": []
    },
    {
      "cell_type": "code",
      "metadata": {
        "id": "GOw7on8uQokp"
      },
      "source": [
        "train_target=train_df['Response']\n",
        "train_df=train_df.drop(['Response'], axis = 1)\n",
        "X_train,X_test,Y_train,Y_test = train_test_split(train_df,train_target,test_size =0.22,stratify = train_target, shuffle = True)"
      ],
      "execution_count": 374,
      "outputs": []
    },
    {
      "cell_type": "code",
      "metadata": {
        "colab": {
          "base_uri": "https://localhost:8080/"
        },
        "id": "5PvGlcddybc3",
        "outputId": "037d4297-fefc-4c77-8e64-9d5ba4577850"
      },
      "source": [
        "for column in features:\n",
        "    X_train[column] = X_train[column].astype('int')\n",
        "    X_test[column] = X_test[column].astype('int')"
      ],
      "execution_count": 375,
      "outputs": [
        {
          "output_type": "stream",
          "text": [
            "/usr/local/lib/python3.7/dist-packages/ipykernel_launcher.py:2: SettingWithCopyWarning: \n",
            "A value is trying to be set on a copy of a slice from a DataFrame.\n",
            "Try using .loc[row_indexer,col_indexer] = value instead\n",
            "\n",
            "See the caveats in the documentation: https://pandas.pydata.org/pandas-docs/stable/user_guide/indexing.html#returning-a-view-versus-a-copy\n",
            "  \n",
            "/usr/local/lib/python3.7/dist-packages/ipykernel_launcher.py:3: SettingWithCopyWarning: \n",
            "A value is trying to be set on a copy of a slice from a DataFrame.\n",
            "Try using .loc[row_indexer,col_indexer] = value instead\n",
            "\n",
            "See the caveats in the documentation: https://pandas.pydata.org/pandas-docs/stable/user_guide/indexing.html#returning-a-view-versus-a-copy\n",
            "  This is separate from the ipykernel package so we can avoid doing imports until\n"
          ],
          "name": "stderr"
        }
      ]
    },
    {
      "cell_type": "code",
      "metadata": {
        "colab": {
          "base_uri": "https://localhost:8080/"
        },
        "id": "BRaZsLqArx0G",
        "outputId": "47ec98a3-4649-4464-8f3d-b21202351c28"
      },
      "source": [
        "sm = SMOTE(random_state=500)\n",
        "X_res, y_res = sm.fit_resample(X_train, Y_train)"
      ],
      "execution_count": 376,
      "outputs": [
        {
          "output_type": "stream",
          "text": [
            "/usr/local/lib/python3.7/dist-packages/sklearn/utils/deprecation.py:87: FutureWarning: Function safe_indexing is deprecated; safe_indexing is deprecated in version 0.22 and will be removed in version 0.24.\n",
            "  warnings.warn(msg, category=FutureWarning)\n"
          ],
          "name": "stderr"
        }
      ]
    },
    {
      "cell_type": "code",
      "metadata": {
        "id": "6ltj_j6EsRvI"
      },
      "source": [
        "def training(model,X_train, Y_train):\n",
        "    return model.fit(X_train, Y_train)"
      ],
      "execution_count": 377,
      "outputs": []
    },
    {
      "cell_type": "code",
      "metadata": {
        "id": "b7HKXYOysiaZ"
      },
      "source": [
        "def evaluation_stats(model,X_train, X_test, Y_train, Y_test,algo,is_feature=False):\n",
        "    print('Train Accuracy')\n",
        "    y_pred_train = model.predict(X_train)                           \n",
        "    print(accuracy_score(Y_train, y_pred_train))\n",
        "    print('Validation Accuracy')\n",
        "    y_pred_test = model.predict(X_test)                           \n",
        "    print(accuracy_score(Y_test, y_pred_test))\n",
        "    print(\"\\n\")\n",
        "    print(\"Train AUC Score\")\n",
        "    print(roc_auc_score(Y_train, y_pred_train))\n",
        "    print(\"Test AUC Score\")\n",
        "    print(roc_auc_score(Y_test, y_pred_test))\n",
        "    \n",
        "    if is_feature:\n",
        "        plot_feature_importance(rf_model.feature_importances_,X.columns,algo)\n",
        "def plot_feature_importance(importance,names,model_type):\n",
        "    feature_importance = np.array(importance)\n",
        "    feature_names = np.array(names)"
      ],
      "execution_count": 378,
      "outputs": []
    },
    {
      "cell_type": "code",
      "metadata": {
        "colab": {
          "base_uri": "https://localhost:8080/"
        },
        "id": "-DZeJjS6r8Eo",
        "outputId": "8f47d655-44bd-4cd3-f04d-e625b3e07196"
      },
      "source": [
        "##Using RANDOM FOREST METHOD\n",
        "rf_model = training(RandomForestClassifier(),X_res, y_res)\n",
        "evaluation_stats(rf_model,X_res, X_test, y_res, Y_test,'RANDOM FOREST')"
      ],
      "execution_count": 379,
      "outputs": [
        {
          "output_type": "stream",
          "text": [
            "Train Accuracy\n",
            "1.0\n",
            "Validation Accuracy\n",
            "0.6585082626172398\n",
            "\n",
            "\n",
            "Train AUC Score\n",
            "1.0\n",
            "Test AUC Score\n",
            "0.5334436088738594\n"
          ],
          "name": "stdout"
        }
      ]
    },
    {
      "cell_type": "code",
      "metadata": {
        "colab": {
          "base_uri": "https://localhost:8080/"
        },
        "id": "3vJCFPxht7S7",
        "outputId": "4e8f67e8-18ac-42b9-a0df-c823f01e704c"
      },
      "source": [
        "rf_model = training(RandomForestClassifier(criterion='entropy',n_estimators=5,max_depth=2),X_res, y_res)\n",
        "evaluation_stats(rf_model,X_res, X_test, y_res, Y_test,'RANDOM FOREST')"
      ],
      "execution_count": 380,
      "outputs": [
        {
          "output_type": "stream",
          "text": [
            "Train Accuracy\n",
            "0.6237402201299562\n",
            "Validation Accuracy\n",
            "0.5811523001339884\n",
            "\n",
            "\n",
            "Train AUC Score\n",
            "0.6237402201299562\n",
            "Test AUC Score\n",
            "0.5262507736760176\n"
          ],
          "name": "stdout"
        }
      ]
    },
    {
      "cell_type": "code",
      "metadata": {
        "colab": {
          "base_uri": "https://localhost:8080/"
        },
        "id": "S14Us3vstNxy",
        "outputId": "30fc9b72-7d15-4fde-e900-4e561a7baaf6"
      },
      "source": [
        "for column in features:\n",
        "    X_train[column] = X_train[column].astype('int')\n",
        "    X_test[column] = X_test[column].astype('int')"
      ],
      "execution_count": 381,
      "outputs": [
        {
          "output_type": "stream",
          "text": [
            "/usr/local/lib/python3.7/dist-packages/ipykernel_launcher.py:2: SettingWithCopyWarning: \n",
            "A value is trying to be set on a copy of a slice from a DataFrame.\n",
            "Try using .loc[row_indexer,col_indexer] = value instead\n",
            "\n",
            "See the caveats in the documentation: https://pandas.pydata.org/pandas-docs/stable/user_guide/indexing.html#returning-a-view-versus-a-copy\n",
            "  \n",
            "/usr/local/lib/python3.7/dist-packages/ipykernel_launcher.py:3: SettingWithCopyWarning: \n",
            "A value is trying to be set on a copy of a slice from a DataFrame.\n",
            "Try using .loc[row_indexer,col_indexer] = value instead\n",
            "\n",
            "See the caveats in the documentation: https://pandas.pydata.org/pandas-docs/stable/user_guide/indexing.html#returning-a-view-versus-a-copy\n",
            "  This is separate from the ipykernel package so we can avoid doing imports until\n"
          ],
          "name": "stderr"
        }
      ]
    },
    {
      "cell_type": "code",
      "metadata": {
        "id": "l8b_TBy0z4T6"
      },
      "source": [
        "#USING XGBOOST\n",
        "space={ 'max_depth': hp.quniform(\"max_depth\", 3,18,1),\n",
        "        'gamma': hp.uniform ('gamma', 1,9),\n",
        "        'reg_alpha' : hp.quniform('reg_alpha', 40,180,1),\n",
        "        'reg_lambda' : hp.uniform('reg_lambda', 0,1),\n",
        "        'colsample_bytree' : hp.uniform('colsample_bytree', 0.5,1),\n",
        "        'min_child_weight' : hp.quniform('min_child_weight', 0, 10, 1),\n",
        "        'n_estimators': 500,\n",
        "        'seed': 0\n",
        "      }"
      ],
      "execution_count": 382,
      "outputs": []
    },
    {
      "cell_type": "code",
      "metadata": {
        "id": "B8N2BB0w2jgf"
      },
      "source": [
        "from hyperopt import STATUS_OK, Trials, fmin, hp, tpe"
      ],
      "execution_count": 383,
      "outputs": []
    },
    {
      "cell_type": "code",
      "metadata": {
        "id": "r5XfAf2e0EbN"
      },
      "source": [
        "def objective(space):\n",
        "\n",
        "  clf=xgb.XGBClassifier(\n",
        "                    n_estimators =space['n_estimators'], max_depth = int(space['max_depth']), gamma = space['gamma'],\n",
        "                    reg_alpha = int(space['reg_alpha']),min_child_weight=int(space['min_child_weight']),\n",
        "                    colsample_bytree=int(space['colsample_bytree']))\n",
        "    \n",
        "  evaluation = [( X_train, Y_train), ( X_test, Y_test)]\n",
        "    \n",
        "  clf.fit(X_train, Y_train,\n",
        "            eval_set=evaluation, eval_metric=\"auc\",\n",
        "            early_stopping_rounds=10,verbose=False)\n",
        "    \n",
        "\n",
        "  pred = clf.predict(X_test)\n",
        "  y_score = model.predict_proba(X_test)[:,1]\n",
        "  accuracy = accuracy_score(Y_test, pred>0.5)\n",
        "  Roc_Auc_Score = roc_auc_score(Y_test, y_score)\n",
        "  print (\"ROC-AUC Score:\",Roc_Auc_Score)\n",
        "  print (\"SCORE:\", accuracy)\n",
        "  return {'loss': -Roc_Auc_Score, 'status': STATUS_OK }"
      ],
      "execution_count": 384,
      "outputs": []
    },
    {
      "cell_type": "code",
      "metadata": {
        "id": "htIDWXmB0qSb"
      },
      "source": [
        "trials = Trials()"
      ],
      "execution_count": 385,
      "outputs": []
    },
    {
      "cell_type": "code",
      "metadata": {
        "colab": {
          "base_uri": "https://localhost:8080/"
        },
        "id": "R8V9cM5c1AKQ",
        "outputId": "156f0b4d-86c8-4c22-bf75-0c97484b070c"
      },
      "source": [
        "random_search = {'criterion': ['entropy', 'gini'],\n",
        "               'max_depth': [2,3,4,5,6,7,10],\n",
        "               'min_samples_leaf': [4, 6, 8],\n",
        "               'min_samples_split': [5, 7,10],\n",
        "               'n_estimators': [300]}\n",
        "\n",
        "clf = RandomForestClassifier()\n",
        "model = RandomizedSearchCV(estimator = clf, param_distributions = random_search, n_iter = 10, \n",
        "                               cv = 4, verbose= 1, random_state= 101, n_jobs = -1)\n",
        "model.fit(X_train,Y_train)"
      ],
      "execution_count": 386,
      "outputs": [
        {
          "output_type": "stream",
          "text": [
            "Fitting 4 folds for each of 10 candidates, totalling 40 fits\n"
          ],
          "name": "stdout"
        },
        {
          "output_type": "stream",
          "text": [
            "[Parallel(n_jobs=-1)]: Using backend LokyBackend with 2 concurrent workers.\n",
            "[Parallel(n_jobs=-1)]: Done  40 out of  40 | elapsed:  3.3min finished\n"
          ],
          "name": "stderr"
        },
        {
          "output_type": "execute_result",
          "data": {
            "text/plain": [
              "RandomizedSearchCV(cv=4, error_score=nan,\n",
              "                   estimator=RandomForestClassifier(bootstrap=True,\n",
              "                                                    ccp_alpha=0.0,\n",
              "                                                    class_weight=None,\n",
              "                                                    criterion='gini',\n",
              "                                                    max_depth=None,\n",
              "                                                    max_features='auto',\n",
              "                                                    max_leaf_nodes=None,\n",
              "                                                    max_samples=None,\n",
              "                                                    min_impurity_decrease=0.0,\n",
              "                                                    min_impurity_split=None,\n",
              "                                                    min_samples_leaf=1,\n",
              "                                                    min_samples_split=2,\n",
              "                                                    min_weight_fraction_leaf=0.0,\n",
              "                                                    n_estimators=100,\n",
              "                                                    n_jobs...\n",
              "                                                    oob_score=False,\n",
              "                                                    random_state=None,\n",
              "                                                    verbose=0,\n",
              "                                                    warm_start=False),\n",
              "                   iid='deprecated', n_iter=10, n_jobs=-1,\n",
              "                   param_distributions={'criterion': ['entropy', 'gini'],\n",
              "                                        'max_depth': [2, 3, 4, 5, 6, 7, 10],\n",
              "                                        'min_samples_leaf': [4, 6, 8],\n",
              "                                        'min_samples_split': [5, 7, 10],\n",
              "                                        'n_estimators': [300]},\n",
              "                   pre_dispatch='2*n_jobs', random_state=101, refit=True,\n",
              "                   return_train_score=False, scoring=None, verbose=1)"
            ]
          },
          "metadata": {
            "tags": []
          },
          "execution_count": 386
        }
      ]
    },
    {
      "cell_type": "code",
      "metadata": {
        "id": "kw-ZJ56y0s06",
        "colab": {
          "base_uri": "https://localhost:8080/"
        },
        "outputId": "c776181f-e4d7-4c18-e59b-11ea62ed2def"
      },
      "source": [
        "best_hyperparams = fmin(fn = objective,\n",
        "                        space = space,\n",
        "                        algo = tpe.suggest,\n",
        "                        max_evals = 105,\n",
        "                        trials = trials)"
      ],
      "execution_count": 387,
      "outputs": [
        {
          "output_type": "stream",
          "text": [
            "ROC-AUC Score:\n",
            "0.6289891295511467\n",
            "SCORE:\n",
            "0.7600714604734257\n",
            "ROC-AUC Score:\n",
            "0.6289891295511467\n",
            "SCORE:\n",
            "0.7600714604734257\n",
            "ROC-AUC Score:\n",
            "0.6289891295511467\n",
            "SCORE:\n",
            "0.7600714604734257\n",
            "ROC-AUC Score:\n",
            "0.6289891295511467\n",
            "SCORE:\n",
            "0.7600714604734257\n",
            "ROC-AUC Score:\n",
            "0.6289891295511467\n",
            "SCORE:\n",
            "0.7600714604734257\n",
            "ROC-AUC Score:\n",
            "0.6289891295511467\n",
            "SCORE:\n",
            "0.7600714604734257\n",
            "ROC-AUC Score:\n",
            "0.6289891295511467\n",
            "SCORE:\n",
            "0.7600714604734257\n",
            "ROC-AUC Score:\n",
            "0.6289891295511467\n",
            "SCORE:\n",
            "0.7600714604734257\n",
            "ROC-AUC Score:\n",
            "0.6289891295511467\n",
            "SCORE:\n",
            "0.7600714604734257\n",
            "ROC-AUC Score:\n",
            "0.6289891295511467\n",
            "SCORE:\n",
            "0.7600714604734257\n",
            "ROC-AUC Score:\n",
            "0.6289891295511467\n",
            "SCORE:\n",
            "0.7600714604734257\n",
            "ROC-AUC Score:\n",
            "0.6289891295511467\n",
            "SCORE:\n",
            "0.7600714604734257\n",
            "ROC-AUC Score:\n",
            "0.6289891295511467\n",
            "SCORE:\n",
            "0.7600714604734257\n",
            "ROC-AUC Score:\n",
            "0.6289891295511467\n",
            "SCORE:\n",
            "0.7600714604734257\n",
            "ROC-AUC Score:\n",
            "0.6289891295511467\n",
            "SCORE:\n",
            "0.7600714604734257\n",
            "ROC-AUC Score:\n",
            "0.6289891295511467\n",
            "SCORE:\n",
            "0.7600714604734257\n",
            "ROC-AUC Score:\n",
            "0.6289891295511467\n",
            "SCORE:\n",
            "0.7600714604734257\n",
            "ROC-AUC Score:\n",
            "0.6289891295511467\n",
            "SCORE:\n",
            "0.7600714604734257\n",
            "ROC-AUC Score:\n",
            "0.6289891295511467\n",
            "SCORE:\n",
            "0.7600714604734257\n",
            "ROC-AUC Score:\n",
            "0.6289891295511467\n",
            "SCORE:\n",
            "0.7600714604734257\n",
            "ROC-AUC Score:\n",
            "0.6289891295511467\n",
            "SCORE:\n",
            "0.7600714604734257\n",
            "ROC-AUC Score:\n",
            "0.6289891295511467\n",
            "SCORE:\n",
            "0.7600714604734257\n",
            "ROC-AUC Score:\n",
            "0.6289891295511467\n",
            "SCORE:\n",
            "0.7600714604734257\n",
            "ROC-AUC Score:\n",
            "0.6289891295511467\n",
            "SCORE:\n",
            "0.7600714604734257\n",
            "ROC-AUC Score:\n",
            "0.6289891295511467\n",
            "SCORE:\n",
            "0.7600714604734257\n",
            "ROC-AUC Score:\n",
            "0.6289891295511467\n",
            "SCORE:\n",
            "0.7600714604734257\n",
            "ROC-AUC Score:\n",
            "0.6289891295511467\n",
            "SCORE:\n",
            "0.7600714604734257\n",
            "ROC-AUC Score:\n",
            "0.6289891295511467\n",
            "SCORE:\n",
            "0.7600714604734257\n",
            "ROC-AUC Score:\n",
            "0.6289891295511467\n",
            "SCORE:\n",
            "0.7600714604734257\n",
            "ROC-AUC Score:\n",
            "0.6289891295511467\n",
            "SCORE:\n",
            "0.7600714604734257\n",
            "ROC-AUC Score:\n",
            "0.6289891295511467\n",
            "SCORE:\n",
            "0.7600714604734257\n",
            "ROC-AUC Score:\n",
            "0.6289891295511467\n",
            "SCORE:\n",
            "0.7600714604734257\n",
            "ROC-AUC Score:\n",
            "0.6289891295511467\n",
            "SCORE:\n",
            "0.7600714604734257\n",
            "ROC-AUC Score:\n",
            "0.6289891295511467\n",
            "SCORE:\n",
            "0.7600714604734257\n",
            "ROC-AUC Score:\n",
            "0.6289891295511467\n",
            "SCORE:\n",
            "0.7600714604734257\n",
            "ROC-AUC Score:\n",
            "0.6289891295511467\n",
            "SCORE:\n",
            "0.7600714604734257\n",
            "ROC-AUC Score:\n",
            "0.6289891295511467\n",
            "SCORE:\n",
            "0.7600714604734257\n",
            "ROC-AUC Score:\n",
            "0.6289891295511467\n",
            "SCORE:\n",
            "0.7600714604734257\n",
            "ROC-AUC Score:\n",
            "0.6289891295511467\n",
            "SCORE:\n",
            "0.7600714604734257\n",
            "ROC-AUC Score:\n",
            "0.6289891295511467\n",
            "SCORE:\n",
            "0.7600714604734257\n",
            "ROC-AUC Score:\n",
            "0.6289891295511467\n",
            "SCORE:\n",
            "0.7600714604734257\n",
            "ROC-AUC Score:\n",
            "0.6289891295511467\n",
            "SCORE:\n",
            "0.7600714604734257\n",
            "ROC-AUC Score:\n",
            "0.6289891295511467\n",
            "SCORE:\n",
            "0.7600714604734257\n",
            "ROC-AUC Score:\n",
            "0.6289891295511467\n",
            "SCORE:\n",
            "0.7600714604734257\n",
            "ROC-AUC Score:\n",
            "0.6289891295511467\n",
            "SCORE:\n",
            "0.7600714604734257\n",
            "ROC-AUC Score:\n",
            "0.6289891295511467\n",
            "SCORE:\n",
            "0.7600714604734257\n",
            "ROC-AUC Score:\n",
            "0.6289891295511467\n",
            "SCORE:\n",
            "0.7600714604734257\n",
            "ROC-AUC Score:\n",
            "0.6289891295511467\n",
            "SCORE:\n",
            "0.7600714604734257\n",
            "ROC-AUC Score:\n",
            "0.6289891295511467\n",
            "SCORE:\n",
            "0.7600714604734257\n",
            "ROC-AUC Score:\n",
            "0.6289891295511467\n",
            "SCORE:\n",
            "0.7600714604734257\n",
            "ROC-AUC Score:\n",
            "0.6289891295511467\n",
            "SCORE:\n",
            "0.7600714604734257\n",
            "ROC-AUC Score:\n",
            "0.6289891295511467\n",
            "SCORE:\n",
            "0.7600714604734257\n",
            "ROC-AUC Score:\n",
            "0.6289891295511467\n",
            "SCORE:\n",
            "0.7600714604734257\n",
            "ROC-AUC Score:\n",
            "0.6289891295511467\n",
            "SCORE:\n",
            "0.7600714604734257\n",
            "ROC-AUC Score:\n",
            "0.6289891295511467\n",
            "SCORE:\n",
            "0.7600714604734257\n",
            "ROC-AUC Score:\n",
            "0.6289891295511467\n",
            "SCORE:\n",
            "0.7600714604734257\n",
            "ROC-AUC Score:\n",
            "0.6289891295511467\n",
            "SCORE:\n",
            "0.7600714604734257\n",
            "ROC-AUC Score:\n",
            "0.6289891295511467\n",
            "SCORE:\n",
            "0.7600714604734257\n",
            "ROC-AUC Score:\n",
            "0.6289891295511467\n",
            "SCORE:\n",
            "0.7600714604734257\n",
            "ROC-AUC Score:\n",
            "0.6289891295511467\n",
            "SCORE:\n",
            "0.7600714604734257\n",
            "ROC-AUC Score:\n",
            "0.6289891295511467\n",
            "SCORE:\n",
            "0.7600714604734257\n",
            "ROC-AUC Score:\n",
            "0.6289891295511467\n",
            "SCORE:\n",
            "0.7600714604734257\n",
            "ROC-AUC Score:\n",
            "0.6289891295511467\n",
            "SCORE:\n",
            "0.7600714604734257\n",
            "ROC-AUC Score:\n",
            "0.6289891295511467\n",
            "SCORE:\n",
            "0.7600714604734257\n",
            "ROC-AUC Score:\n",
            "0.6289891295511467\n",
            "SCORE:\n",
            "0.7600714604734257\n",
            "ROC-AUC Score:\n",
            "0.6289891295511467\n",
            "SCORE:\n",
            "0.7600714604734257\n",
            "ROC-AUC Score:\n",
            "0.6289891295511467\n",
            "SCORE:\n",
            "0.7600714604734257\n",
            "ROC-AUC Score:\n",
            "0.6289891295511467\n",
            "SCORE:\n",
            "0.7600714604734257\n",
            "ROC-AUC Score:\n",
            "0.6289891295511467\n",
            "SCORE:\n",
            "0.7600714604734257\n",
            "ROC-AUC Score:\n",
            "0.6289891295511467\n",
            "SCORE:\n",
            "0.7600714604734257\n",
            "ROC-AUC Score:\n",
            "0.6289891295511467\n",
            "SCORE:\n",
            "0.7600714604734257\n",
            "ROC-AUC Score:\n",
            "0.6289891295511467\n",
            "SCORE:\n",
            "0.7600714604734257\n",
            "ROC-AUC Score:\n",
            "0.6289891295511467\n",
            "SCORE:\n",
            "0.7600714604734257\n",
            "ROC-AUC Score:\n",
            "0.6289891295511467\n",
            "SCORE:\n",
            "0.7600714604734257\n",
            "ROC-AUC Score:\n",
            "0.6289891295511467\n",
            "SCORE:\n",
            "0.7600714604734257\n",
            "ROC-AUC Score:\n",
            "0.6289891295511467\n",
            "SCORE:\n",
            "0.7600714604734257\n",
            "ROC-AUC Score:\n",
            "0.6289891295511467\n",
            "SCORE:\n",
            "0.7600714604734257\n",
            "ROC-AUC Score:\n",
            "0.6289891295511467\n",
            "SCORE:\n",
            "0.7600714604734257\n",
            "ROC-AUC Score:\n",
            "0.6289891295511467\n",
            "SCORE:\n",
            "0.7600714604734257\n",
            "ROC-AUC Score:\n",
            "0.6289891295511467\n",
            "SCORE:\n",
            "0.7600714604734257\n",
            "ROC-AUC Score:\n",
            "0.6289891295511467\n",
            "SCORE:\n",
            "0.7600714604734257\n",
            "ROC-AUC Score:\n",
            "0.6289891295511467\n",
            "SCORE:\n",
            "0.7600714604734257\n",
            "ROC-AUC Score:\n",
            "0.6289891295511467\n",
            "SCORE:\n",
            "0.7600714604734257\n",
            "ROC-AUC Score:\n",
            "0.6289891295511467\n",
            "SCORE:\n",
            "0.7600714604734257\n",
            "ROC-AUC Score:\n",
            "0.6289891295511467\n",
            "SCORE:\n",
            "0.7600714604734257\n",
            "ROC-AUC Score:\n",
            "0.6289891295511467\n",
            "SCORE:\n",
            "0.7600714604734257\n",
            "ROC-AUC Score:\n",
            "0.6289891295511467\n",
            "SCORE:\n",
            "0.7600714604734257\n",
            "ROC-AUC Score:\n",
            "0.6289891295511467\n",
            "SCORE:\n",
            "0.7600714604734257\n",
            "ROC-AUC Score:\n",
            "0.6289891295511467\n",
            "SCORE:\n",
            "0.7600714604734257\n",
            "ROC-AUC Score:\n",
            "0.6289891295511467\n",
            "SCORE:\n",
            "0.7600714604734257\n",
            "ROC-AUC Score:\n",
            "0.6289891295511467\n",
            "SCORE:\n",
            "0.7600714604734257\n",
            "ROC-AUC Score:\n",
            "0.6289891295511467\n",
            "SCORE:\n",
            "0.7600714604734257\n",
            "ROC-AUC Score:\n",
            "0.6289891295511467\n",
            "SCORE:\n",
            "0.7600714604734257\n",
            "ROC-AUC Score:\n",
            "0.6289891295511467\n",
            "SCORE:\n",
            "0.7600714604734257\n",
            "ROC-AUC Score:\n",
            "0.6289891295511467\n",
            "SCORE:\n",
            "0.7600714604734257\n",
            "ROC-AUC Score:\n",
            "0.6289891295511467\n",
            "SCORE:\n",
            "0.7600714604734257\n",
            "ROC-AUC Score:\n",
            "0.6289891295511467\n",
            "SCORE:\n",
            "0.7600714604734257\n",
            "ROC-AUC Score:\n",
            "0.6289891295511467\n",
            "SCORE:\n",
            "0.7600714604734257\n",
            "ROC-AUC Score:\n",
            "0.6289891295511467\n",
            "SCORE:\n",
            "0.7600714604734257\n",
            "ROC-AUC Score:\n",
            "0.6289891295511467\n",
            "SCORE:\n",
            "0.7600714604734257\n",
            "ROC-AUC Score:\n",
            "0.6289891295511467\n",
            "SCORE:\n",
            "0.7600714604734257\n",
            "ROC-AUC Score:\n",
            "0.6289891295511467\n",
            "SCORE:\n",
            "0.7600714604734257\n",
            "ROC-AUC Score:\n",
            "0.6289891295511467\n",
            "SCORE:\n",
            "0.7600714604734257\n",
            "ROC-AUC Score:\n",
            "0.6289891295511467\n",
            "SCORE:\n",
            "0.7600714604734257\n",
            "ROC-AUC Score:\n",
            "0.6289891295511467\n",
            "SCORE:\n",
            "0.7600714604734257\n",
            "100%|██████████| 105/105 [01:14<00:00,  1.41it/s, best loss: -0.6289891295511467]\n"
          ],
          "name": "stdout"
        }
      ]
    },
    {
      "cell_type": "code",
      "metadata": {
        "id": "Dx68qt2K0v-6"
      },
      "source": [
        "xgb_model=xgb.XGBClassifier(n_estimators = space['n_estimators'], max_depth = 10, gamma = 5.4567675434, reg_lambda = 0.555777,\n",
        "                            reg_alpha = 8, min_child_weight=4.233432,colsample_bytree = 0.6)"
      ],
      "execution_count": 388,
      "outputs": []
    },
    {
      "cell_type": "code",
      "metadata": {
        "colab": {
          "base_uri": "https://localhost:8080/"
        },
        "id": "MRJW2EXi31u6",
        "outputId": "e0809aeb-eb61-456b-a62d-80a7ae3e8f77"
      },
      "source": [
        "xgb_model.fit(X_train,Y_train)"
      ],
      "execution_count": 389,
      "outputs": [
        {
          "output_type": "execute_result",
          "data": {
            "text/plain": [
              "XGBClassifier(base_score=0.5, booster='gbtree', colsample_bylevel=1,\n",
              "              colsample_bynode=1, colsample_bytree=0.6, gamma=5.4567675434,\n",
              "              learning_rate=0.1, max_delta_step=0, max_depth=10,\n",
              "              min_child_weight=4.233432, missing=None, n_estimators=500,\n",
              "              n_jobs=1, nthread=None, objective='binary:logistic',\n",
              "              random_state=0, reg_alpha=8, reg_lambda=0.555777,\n",
              "              scale_pos_weight=1, seed=None, silent=None, subsample=1,\n",
              "              verbosity=1)"
            ]
          },
          "metadata": {
            "tags": []
          },
          "execution_count": 389
        }
      ]
    },
    {
      "cell_type": "code",
      "metadata": {
        "colab": {
          "base_uri": "https://localhost:8080/"
        },
        "id": "Kpheytlc5EoT",
        "outputId": "2c709293-3512-408c-ef67-7f3bf1a05b2f"
      },
      "source": [
        "y_score = xgb_model.predict_proba(X_test)[:,1]\n",
        "fpr, tpr, _ = roc_curve(Y_test, y_score)\n",
        "plt.title('XGBoost ROC curve')\n",
        "plt.xlabel('FPR (Precision)')\n",
        "plt.ylabel('TPR (Recall)')\n",
        "plt.plot(fpr,tpr)\n",
        "plt.plot((0,1), ls='dashed',color='black')\n",
        "plt.show()\n",
        "print ('Area under curve (AUC): ', auc(fpr,tpr))"
      ],
      "execution_count": 390,
      "outputs": [
        {
          "output_type": "stream",
          "text": [
            "Area under curve (AUC):  0.6675239488441436\n"
          ],
          "name": "stdout"
        }
      ]
    },
    {
      "cell_type": "code",
      "metadata": {
        "colab": {
          "base_uri": "https://localhost:8080/",
          "height": 206
        },
        "id": "4W0Iu-zL5WXI",
        "outputId": "8271cbb6-616b-4791-ece3-0c7790eeb640"
      },
      "source": [
        "cat_pred = [pred[1] for pred in xgb_model.predict_proba(test_df)]\n",
        "submissionC = pd.DataFrame(data = {'ID': test_df[\"ID\"], 'Response': cat_pred})\n",
        "submissionC.to_csv(\"final_solution.csv\", index = False)\n",
        "submissionC.head()\n"
      ],
      "execution_count": 398,
      "outputs": [
        {
          "output_type": "execute_result",
          "data": {
            "text/html": [
              "<div>\n",
              "<style scoped>\n",
              "    .dataframe tbody tr th:only-of-type {\n",
              "        vertical-align: middle;\n",
              "    }\n",
              "\n",
              "    .dataframe tbody tr th {\n",
              "        vertical-align: top;\n",
              "    }\n",
              "\n",
              "    .dataframe thead th {\n",
              "        text-align: right;\n",
              "    }\n",
              "</style>\n",
              "<table border=\"1\" class=\"dataframe\">\n",
              "  <thead>\n",
              "    <tr style=\"text-align: right;\">\n",
              "      <th></th>\n",
              "      <th>ID</th>\n",
              "      <th>Response</th>\n",
              "    </tr>\n",
              "  </thead>\n",
              "  <tbody>\n",
              "    <tr>\n",
              "      <th>0</th>\n",
              "      <td>50883</td>\n",
              "      <td>0.350011</td>\n",
              "    </tr>\n",
              "    <tr>\n",
              "      <th>1</th>\n",
              "      <td>50884</td>\n",
              "      <td>0.285130</td>\n",
              "    </tr>\n",
              "    <tr>\n",
              "      <th>2</th>\n",
              "      <td>50885</td>\n",
              "      <td>0.269361</td>\n",
              "    </tr>\n",
              "    <tr>\n",
              "      <th>3</th>\n",
              "      <td>50886</td>\n",
              "      <td>0.187171</td>\n",
              "    </tr>\n",
              "    <tr>\n",
              "      <th>4</th>\n",
              "      <td>50887</td>\n",
              "      <td>0.276041</td>\n",
              "    </tr>\n",
              "  </tbody>\n",
              "</table>\n",
              "</div>"
            ],
            "text/plain": [
              "      ID  Response\n",
              "0  50883  0.350011\n",
              "1  50884  0.285130\n",
              "2  50885  0.269361\n",
              "3  50886  0.187171\n",
              "4  50887  0.276041"
            ]
          },
          "metadata": {
            "tags": []
          },
          "execution_count": 398
        }
      ]
    },
    {
      "cell_type": "markdown",
      "metadata": {
        "id": "uoYrU6SDatQw"
      },
      "source": [
        "LGBOOST"
      ]
    },
    {
      "cell_type": "code",
      "metadata": {
        "id": "-lXOTLN-BQDq"
      },
      "source": [
        "from lightgbm import LGBMClassifier"
      ],
      "execution_count": 392,
      "outputs": []
    },
    {
      "cell_type": "code",
      "metadata": {
        "id": "QN2MQc4w8gq_"
      },
      "source": [
        "kfold, scores = KFold(n_splits = 5, shuffle = True, random_state = 25), list()\n",
        "for train, test in kfold.split(X):\n",
        "    X_train, X_test = X[train], X[test]\n",
        "    Y_train, Y_test = y[train], y[test]\n",
        "    LGB_model = LGBMClassifier(random_state=101, max_depth=80,n_estimators=10000,\n",
        "                    reg_lambda=7.7073, reg_alpha=12, min_child_weight=4.233432,verbose= 1,\n",
        "                    learning_rate = 0.05, gamma = 0.7, colsample_bytree = 0.9999,\n",
        "                    eval_metric = 'auc', is_higher_better = 1, plot = True)\n",
        "    LGB_model.fit(X_train, Y_train)"
      ],
      "execution_count": 393,
      "outputs": []
    },
    {
      "cell_type": "code",
      "metadata": {
        "colab": {
          "base_uri": "https://localhost:8080/"
        },
        "id": "z0mfB0syLq_c",
        "outputId": "f1a649b0-e33e-4178-cfee-1bf237456ac3"
      },
      "source": [
        "y_pred_lgbm_model = LGB_model.predict(X_test)\n",
        "accuracy_score(Y_test, y_pred_lgbm_model)"
      ],
      "execution_count": 394,
      "outputs": [
        {
          "output_type": "execute_result",
          "data": {
            "text/plain": [
              "0.7567806603773585"
            ]
          },
          "metadata": {
            "tags": []
          },
          "execution_count": 394
        }
      ]
    },
    {
      "cell_type": "code",
      "metadata": {
        "colab": {
          "base_uri": "https://localhost:8080/"
        },
        "id": "aMZ1xUPYLxG9",
        "outputId": "b37f41d3-d834-4e5f-d3cb-0d70139a037f"
      },
      "source": [
        "y_score = LGB_model.predict_proba(X_test)[:,1]\n",
        "fpr, tpr, _ = roc_curve(Y_test, y_score)\n",
        "plt.title('LGBoost ROC curve')\n",
        "plt.xlabel('FPR (Precision)')\n",
        "plt.ylabel('TPR (Recall)')\n",
        "plt.plot(fpr,tpr)\n",
        "plt.plot((0,1), ls='dashed',color='black')\n",
        "plt.show()\n",
        "print ('Area under curve (AUC): ', auc(fpr,tpr))"
      ],
      "execution_count": 395,
      "outputs": [
        {
          "output_type": "stream",
          "text": [
            "Area under curve (AUC):  0.6615222935550236\n"
          ],
          "name": "stdout"
        }
      ]
    },
    {
      "cell_type": "code",
      "metadata": {
        "colab": {
          "base_uri": "https://localhost:8080/",
          "height": 206
        },
        "id": "aTFtRoF1MJo8",
        "outputId": "9c5ea45b-e1a1-4a55-a72a-6f219472abe9"
      },
      "source": [
        "cat_pred = [pred[1] for pred in LGB_model.predict_proba(test_df)]\n",
        "submissionC = pd.DataFrame(data = {'ID': test_df[\"ID\"], 'Response': cat_pred})\n",
        "submissionC.to_csv(\"v9.csv\", index = False)\n",
        "submissionC.head()\n"
      ],
      "execution_count": 396,
      "outputs": [
        {
          "output_type": "execute_result",
          "data": {
            "text/html": [
              "<div>\n",
              "<style scoped>\n",
              "    .dataframe tbody tr th:only-of-type {\n",
              "        vertical-align: middle;\n",
              "    }\n",
              "\n",
              "    .dataframe tbody tr th {\n",
              "        vertical-align: top;\n",
              "    }\n",
              "\n",
              "    .dataframe thead th {\n",
              "        text-align: right;\n",
              "    }\n",
              "</style>\n",
              "<table border=\"1\" class=\"dataframe\">\n",
              "  <thead>\n",
              "    <tr style=\"text-align: right;\">\n",
              "      <th></th>\n",
              "      <th>ID</th>\n",
              "      <th>Response</th>\n",
              "    </tr>\n",
              "  </thead>\n",
              "  <tbody>\n",
              "    <tr>\n",
              "      <th>0</th>\n",
              "      <td>50883</td>\n",
              "      <td>0.401266</td>\n",
              "    </tr>\n",
              "    <tr>\n",
              "      <th>1</th>\n",
              "      <td>50884</td>\n",
              "      <td>0.304277</td>\n",
              "    </tr>\n",
              "    <tr>\n",
              "      <th>2</th>\n",
              "      <td>50885</td>\n",
              "      <td>0.272932</td>\n",
              "    </tr>\n",
              "    <tr>\n",
              "      <th>3</th>\n",
              "      <td>50886</td>\n",
              "      <td>0.167382</td>\n",
              "    </tr>\n",
              "    <tr>\n",
              "      <th>4</th>\n",
              "      <td>50887</td>\n",
              "      <td>0.337419</td>\n",
              "    </tr>\n",
              "  </tbody>\n",
              "</table>\n",
              "</div>"
            ],
            "text/plain": [
              "      ID  Response\n",
              "0  50883  0.401266\n",
              "1  50884  0.304277\n",
              "2  50885  0.272932\n",
              "3  50886  0.167382\n",
              "4  50887  0.337419"
            ]
          },
          "metadata": {
            "tags": []
          },
          "execution_count": 396
        }
      ]
    },
    {
      "cell_type": "code",
      "metadata": {
        "id": "UyK8eY0kdEe1"
      },
      "source": [
        ""
      ],
      "execution_count": null,
      "outputs": []
    }
  ]
}